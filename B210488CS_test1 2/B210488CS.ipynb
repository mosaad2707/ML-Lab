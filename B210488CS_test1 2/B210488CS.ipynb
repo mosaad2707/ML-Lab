{
 "cells": [
  {
   "cell_type": "code",
   "execution_count": 81,
   "id": "d3ff064e",
   "metadata": {},
   "outputs": [],
   "source": [
    "import pandas as pd\n",
    "import pandas as pd\n",
    "import matplotlib.pyplot as plt\n",
    "from sklearn.linear_model import LinearRegression\n",
    "from sklearn.metrics import mean_squared_error\n",
    "import seaborn as sns\n",
    "import warnings\n",
    "warnings.filterwarnings(\"ignore\")\n",
    "df = pd.read_csv(\"Data.csv\")  "
   ]
  },
  {
   "cell_type": "code",
   "execution_count": null,
   "id": "ca9ff696",
   "metadata": {},
   "outputs": [],
   "source": [
    "#importing relevant libraries"
   ]
  },
  {
   "cell_type": "code",
   "execution_count": 82,
   "id": "7c25ba74",
   "metadata": {},
   "outputs": [
    {
     "data": {
      "text/html": [
       "<div>\n",
       "<style scoped>\n",
       "    .dataframe tbody tr th:only-of-type {\n",
       "        vertical-align: middle;\n",
       "    }\n",
       "\n",
       "    .dataframe tbody tr th {\n",
       "        vertical-align: top;\n",
       "    }\n",
       "\n",
       "    .dataframe thead th {\n",
       "        text-align: right;\n",
       "    }\n",
       "</style>\n",
       "<table border=\"1\" class=\"dataframe\">\n",
       "  <thead>\n",
       "    <tr style=\"text-align: right;\">\n",
       "      <th></th>\n",
       "      <th>A</th>\n",
       "      <th>Gender</th>\n",
       "      <th>TB</th>\n",
       "      <th>DB</th>\n",
       "      <th>Alk</th>\n",
       "      <th>Sgpt</th>\n",
       "      <th>Sgot</th>\n",
       "      <th>TP</th>\n",
       "      <th>ALB</th>\n",
       "      <th>Ratio</th>\n",
       "      <th>Yesno</th>\n",
       "    </tr>\n",
       "  </thead>\n",
       "  <tbody>\n",
       "    <tr>\n",
       "      <th>0</th>\n",
       "      <td>65</td>\n",
       "      <td>Female</td>\n",
       "      <td>0.7</td>\n",
       "      <td>0.1</td>\n",
       "      <td>187</td>\n",
       "      <td>16</td>\n",
       "      <td>18</td>\n",
       "      <td>6.8</td>\n",
       "      <td>3.3</td>\n",
       "      <td>0.90</td>\n",
       "      <td>1</td>\n",
       "    </tr>\n",
       "    <tr>\n",
       "      <th>1</th>\n",
       "      <td>62</td>\n",
       "      <td>Male</td>\n",
       "      <td>10.9</td>\n",
       "      <td>5.5</td>\n",
       "      <td>699</td>\n",
       "      <td>64</td>\n",
       "      <td>100</td>\n",
       "      <td>7.5</td>\n",
       "      <td>3.2</td>\n",
       "      <td>0.74</td>\n",
       "      <td>1</td>\n",
       "    </tr>\n",
       "    <tr>\n",
       "      <th>2</th>\n",
       "      <td>62</td>\n",
       "      <td>Male</td>\n",
       "      <td>7.3</td>\n",
       "      <td>4.1</td>\n",
       "      <td>490</td>\n",
       "      <td>60</td>\n",
       "      <td>68</td>\n",
       "      <td>7.0</td>\n",
       "      <td>3.3</td>\n",
       "      <td>0.89</td>\n",
       "      <td>1</td>\n",
       "    </tr>\n",
       "    <tr>\n",
       "      <th>3</th>\n",
       "      <td>58</td>\n",
       "      <td>Male</td>\n",
       "      <td>1.0</td>\n",
       "      <td>0.4</td>\n",
       "      <td>182</td>\n",
       "      <td>14</td>\n",
       "      <td>20</td>\n",
       "      <td>6.8</td>\n",
       "      <td>3.4</td>\n",
       "      <td>1.00</td>\n",
       "      <td>1</td>\n",
       "    </tr>\n",
       "    <tr>\n",
       "      <th>4</th>\n",
       "      <td>72</td>\n",
       "      <td>Male</td>\n",
       "      <td>3.9</td>\n",
       "      <td>2.0</td>\n",
       "      <td>195</td>\n",
       "      <td>27</td>\n",
       "      <td>59</td>\n",
       "      <td>7.3</td>\n",
       "      <td>2.4</td>\n",
       "      <td>0.40</td>\n",
       "      <td>1</td>\n",
       "    </tr>\n",
       "  </tbody>\n",
       "</table>\n",
       "</div>"
      ],
      "text/plain": [
       "    A  Gender    TB   DB  Alk  Sgpt  Sgot   TP  ALB  Ratio  Yesno\n",
       "0  65  Female   0.7  0.1  187    16    18  6.8  3.3   0.90      1\n",
       "1  62    Male  10.9  5.5  699    64   100  7.5  3.2   0.74      1\n",
       "2  62    Male   7.3  4.1  490    60    68  7.0  3.3   0.89      1\n",
       "3  58    Male   1.0  0.4  182    14    20  6.8  3.4   1.00      1\n",
       "4  72    Male   3.9  2.0  195    27    59  7.3  2.4   0.40      1"
      ]
     },
     "execution_count": 82,
     "metadata": {},
     "output_type": "execute_result"
    }
   ],
   "source": [
    "df.head()\n"
   ]
  },
  {
   "cell_type": "code",
   "execution_count": 83,
   "id": "d789c319",
   "metadata": {},
   "outputs": [],
   "source": [
    "for col in df.columns:\n",
    "    df[col].replace({'Yes':1},inplace=True)\n",
    "    df[col].replace({'No':0},inplace=True)\n",
    "    df[col].replace({'Female':1},inplace=True)\n",
    "    df[col].replace({'Male':0},inplace=True)\n",
    "    df[col].replace({'Male':0},inplace=True)"
   ]
  },
  {
   "cell_type": "code",
   "execution_count": null,
   "id": "7633c728",
   "metadata": {},
   "outputs": [],
   "source": [
    "#changing relevant strings to binary"
   ]
  },
  {
   "cell_type": "code",
   "execution_count": 84,
   "id": "ddb00f2c",
   "metadata": {},
   "outputs": [
    {
     "data": {
      "text/html": [
       "<div>\n",
       "<style scoped>\n",
       "    .dataframe tbody tr th:only-of-type {\n",
       "        vertical-align: middle;\n",
       "    }\n",
       "\n",
       "    .dataframe tbody tr th {\n",
       "        vertical-align: top;\n",
       "    }\n",
       "\n",
       "    .dataframe thead th {\n",
       "        text-align: right;\n",
       "    }\n",
       "</style>\n",
       "<table border=\"1\" class=\"dataframe\">\n",
       "  <thead>\n",
       "    <tr style=\"text-align: right;\">\n",
       "      <th></th>\n",
       "      <th>A</th>\n",
       "      <th>Gender</th>\n",
       "      <th>TB</th>\n",
       "      <th>DB</th>\n",
       "      <th>Alk</th>\n",
       "      <th>Sgpt</th>\n",
       "      <th>Sgot</th>\n",
       "      <th>TP</th>\n",
       "      <th>ALB</th>\n",
       "      <th>Ratio</th>\n",
       "      <th>Yesno</th>\n",
       "    </tr>\n",
       "  </thead>\n",
       "  <tbody>\n",
       "    <tr>\n",
       "      <th>0</th>\n",
       "      <td>65</td>\n",
       "      <td>1</td>\n",
       "      <td>0.7</td>\n",
       "      <td>0.1</td>\n",
       "      <td>187</td>\n",
       "      <td>16</td>\n",
       "      <td>18</td>\n",
       "      <td>6.8</td>\n",
       "      <td>3.3</td>\n",
       "      <td>0.90</td>\n",
       "      <td>1</td>\n",
       "    </tr>\n",
       "    <tr>\n",
       "      <th>1</th>\n",
       "      <td>62</td>\n",
       "      <td>0</td>\n",
       "      <td>10.9</td>\n",
       "      <td>5.5</td>\n",
       "      <td>699</td>\n",
       "      <td>64</td>\n",
       "      <td>100</td>\n",
       "      <td>7.5</td>\n",
       "      <td>3.2</td>\n",
       "      <td>0.74</td>\n",
       "      <td>1</td>\n",
       "    </tr>\n",
       "    <tr>\n",
       "      <th>2</th>\n",
       "      <td>62</td>\n",
       "      <td>0</td>\n",
       "      <td>7.3</td>\n",
       "      <td>4.1</td>\n",
       "      <td>490</td>\n",
       "      <td>60</td>\n",
       "      <td>68</td>\n",
       "      <td>7.0</td>\n",
       "      <td>3.3</td>\n",
       "      <td>0.89</td>\n",
       "      <td>1</td>\n",
       "    </tr>\n",
       "    <tr>\n",
       "      <th>3</th>\n",
       "      <td>58</td>\n",
       "      <td>0</td>\n",
       "      <td>1.0</td>\n",
       "      <td>0.4</td>\n",
       "      <td>182</td>\n",
       "      <td>14</td>\n",
       "      <td>20</td>\n",
       "      <td>6.8</td>\n",
       "      <td>3.4</td>\n",
       "      <td>1.00</td>\n",
       "      <td>1</td>\n",
       "    </tr>\n",
       "    <tr>\n",
       "      <th>4</th>\n",
       "      <td>72</td>\n",
       "      <td>0</td>\n",
       "      <td>3.9</td>\n",
       "      <td>2.0</td>\n",
       "      <td>195</td>\n",
       "      <td>27</td>\n",
       "      <td>59</td>\n",
       "      <td>7.3</td>\n",
       "      <td>2.4</td>\n",
       "      <td>0.40</td>\n",
       "      <td>1</td>\n",
       "    </tr>\n",
       "  </tbody>\n",
       "</table>\n",
       "</div>"
      ],
      "text/plain": [
       "    A  Gender    TB   DB  Alk  Sgpt  Sgot   TP  ALB  Ratio  Yesno\n",
       "0  65       1   0.7  0.1  187    16    18  6.8  3.3   0.90      1\n",
       "1  62       0  10.9  5.5  699    64   100  7.5  3.2   0.74      1\n",
       "2  62       0   7.3  4.1  490    60    68  7.0  3.3   0.89      1\n",
       "3  58       0   1.0  0.4  182    14    20  6.8  3.4   1.00      1\n",
       "4  72       0   3.9  2.0  195    27    59  7.3  2.4   0.40      1"
      ]
     },
     "execution_count": 84,
     "metadata": {},
     "output_type": "execute_result"
    }
   ],
   "source": [
    "df.head()"
   ]
  },
  {
   "cell_type": "code",
   "execution_count": 85,
   "id": "64a8922b",
   "metadata": {
    "scrolled": true
   },
   "outputs": [
    {
     "data": {
      "text/plain": [
       "<AxesSubplot:>"
      ]
     },
     "execution_count": 85,
     "metadata": {},
     "output_type": "execute_result"
    },
    {
     "data": {
      "image/png": "[encoded data removed]",
      "text/plain": [
       "<Figure size 792x792 with 2 Axes>"
      ]
     },
     "metadata": {
      "needs_background": "light"
     },
     "output_type": "display_data"
    }
   ],
   "source": [
    "#plotting heatmap for referential feature scaling\n",
    "plt.figure(figsize=(11,11))\n",
    "sns.heatmap(df.corr(),cbar=True,annot=True,cmap='Blues')"
   ]
  },
  {
   "cell_type": "code",
   "execution_count": null,
   "id": "73869c28",
   "metadata": {},
   "outputs": [],
   "source": []
  },
  {
   "cell_type": "code",
   "execution_count": 86,
   "id": "834197b8",
   "metadata": {},
   "outputs": [],
   "source": [
    "x = df.drop('Yesno',axis=1)\n",
    "x = x.drop('Ratio',axis=1)\n",
    "y = df['Yesno']"
   ]
  },
  {
   "cell_type": "code",
   "execution_count": 134,
   "id": "10f69dc9",
   "metadata": {},
   "outputs": [
    {
     "name": "stdout",
     "output_type": "stream",
     "text": [
      "0      1\n",
      "1      1\n",
      "2      1\n",
      "3      1\n",
      "4      1\n",
      "      ..\n",
      "578    2\n",
      "579    1\n",
      "580    1\n",
      "581    1\n",
      "582    2\n",
      "Name: Yesno, Length: 583, dtype: int64\n"
     ]
    }
   ],
   "source": [
    "print(y)"
   ]
  },
  {
   "cell_type": "code",
   "execution_count": 87,
   "id": "f9d0998e",
   "metadata": {},
   "outputs": [],
   "source": [
    "from sklearn.model_selection import train_test_split\n",
    "\n",
    "x_train, x_test, y_train, y_test = train_test_split(\n",
    "    x, y, test_size=0.20, random_state=42)"
   ]
  },
  {
   "cell_type": "code",
   "execution_count": null,
   "id": "093a7259",
   "metadata": {},
   "outputs": [],
   "source": [
    "#creating test split and printing the values"
   ]
  },
  {
   "cell_type": "code",
   "execution_count": 88,
   "id": "21d7eec9",
   "metadata": {},
   "outputs": [
    {
     "data": {
      "text/html": [
       "<div>\n",
       "<style scoped>\n",
       "    .dataframe tbody tr th:only-of-type {\n",
       "        vertical-align: middle;\n",
       "    }\n",
       "\n",
       "    .dataframe tbody tr th {\n",
       "        vertical-align: top;\n",
       "    }\n",
       "\n",
       "    .dataframe thead th {\n",
       "        text-align: right;\n",
       "    }\n",
       "</style>\n",
       "<table border=\"1\" class=\"dataframe\">\n",
       "  <thead>\n",
       "    <tr style=\"text-align: right;\">\n",
       "      <th></th>\n",
       "      <th>A</th>\n",
       "      <th>Gender</th>\n",
       "      <th>TB</th>\n",
       "      <th>DB</th>\n",
       "      <th>Alk</th>\n",
       "      <th>Sgpt</th>\n",
       "      <th>Sgot</th>\n",
       "      <th>TP</th>\n",
       "      <th>ALB</th>\n",
       "    </tr>\n",
       "  </thead>\n",
       "  <tbody>\n",
       "    <tr>\n",
       "      <th>77</th>\n",
       "      <td>68</td>\n",
       "      <td>1</td>\n",
       "      <td>0.6</td>\n",
       "      <td>0.1</td>\n",
       "      <td>1620</td>\n",
       "      <td>95</td>\n",
       "      <td>127</td>\n",
       "      <td>4.6</td>\n",
       "      <td>2.1</td>\n",
       "    </tr>\n",
       "    <tr>\n",
       "      <th>581</th>\n",
       "      <td>31</td>\n",
       "      <td>0</td>\n",
       "      <td>1.3</td>\n",
       "      <td>0.5</td>\n",
       "      <td>184</td>\n",
       "      <td>29</td>\n",
       "      <td>32</td>\n",
       "      <td>6.8</td>\n",
       "      <td>3.4</td>\n",
       "    </tr>\n",
       "    <tr>\n",
       "      <th>210</th>\n",
       "      <td>28</td>\n",
       "      <td>0</td>\n",
       "      <td>0.8</td>\n",
       "      <td>0.3</td>\n",
       "      <td>190</td>\n",
       "      <td>20</td>\n",
       "      <td>14</td>\n",
       "      <td>4.1</td>\n",
       "      <td>2.4</td>\n",
       "    </tr>\n",
       "    <tr>\n",
       "      <th>192</th>\n",
       "      <td>60</td>\n",
       "      <td>0</td>\n",
       "      <td>2.3</td>\n",
       "      <td>0.6</td>\n",
       "      <td>272</td>\n",
       "      <td>79</td>\n",
       "      <td>51</td>\n",
       "      <td>6.6</td>\n",
       "      <td>3.5</td>\n",
       "    </tr>\n",
       "    <tr>\n",
       "      <th>449</th>\n",
       "      <td>48</td>\n",
       "      <td>1</td>\n",
       "      <td>0.9</td>\n",
       "      <td>0.2</td>\n",
       "      <td>173</td>\n",
       "      <td>26</td>\n",
       "      <td>27</td>\n",
       "      <td>6.2</td>\n",
       "      <td>3.1</td>\n",
       "    </tr>\n",
       "    <tr>\n",
       "      <th>...</th>\n",
       "      <td>...</td>\n",
       "      <td>...</td>\n",
       "      <td>...</td>\n",
       "      <td>...</td>\n",
       "      <td>...</td>\n",
       "      <td>...</td>\n",
       "      <td>...</td>\n",
       "      <td>...</td>\n",
       "      <td>...</td>\n",
       "    </tr>\n",
       "    <tr>\n",
       "      <th>71</th>\n",
       "      <td>75</td>\n",
       "      <td>1</td>\n",
       "      <td>0.8</td>\n",
       "      <td>0.2</td>\n",
       "      <td>188</td>\n",
       "      <td>20</td>\n",
       "      <td>29</td>\n",
       "      <td>4.4</td>\n",
       "      <td>1.8</td>\n",
       "    </tr>\n",
       "    <tr>\n",
       "      <th>106</th>\n",
       "      <td>36</td>\n",
       "      <td>0</td>\n",
       "      <td>5.3</td>\n",
       "      <td>2.3</td>\n",
       "      <td>145</td>\n",
       "      <td>32</td>\n",
       "      <td>92</td>\n",
       "      <td>5.1</td>\n",
       "      <td>2.6</td>\n",
       "    </tr>\n",
       "    <tr>\n",
       "      <th>270</th>\n",
       "      <td>37</td>\n",
       "      <td>0</td>\n",
       "      <td>0.7</td>\n",
       "      <td>0.2</td>\n",
       "      <td>235</td>\n",
       "      <td>96</td>\n",
       "      <td>54</td>\n",
       "      <td>9.5</td>\n",
       "      <td>4.9</td>\n",
       "    </tr>\n",
       "    <tr>\n",
       "      <th>435</th>\n",
       "      <td>17</td>\n",
       "      <td>1</td>\n",
       "      <td>0.5</td>\n",
       "      <td>0.1</td>\n",
       "      <td>206</td>\n",
       "      <td>28</td>\n",
       "      <td>21</td>\n",
       "      <td>7.1</td>\n",
       "      <td>4.5</td>\n",
       "    </tr>\n",
       "    <tr>\n",
       "      <th>102</th>\n",
       "      <td>17</td>\n",
       "      <td>0</td>\n",
       "      <td>0.9</td>\n",
       "      <td>0.2</td>\n",
       "      <td>224</td>\n",
       "      <td>36</td>\n",
       "      <td>45</td>\n",
       "      <td>6.9</td>\n",
       "      <td>4.2</td>\n",
       "    </tr>\n",
       "  </tbody>\n",
       "</table>\n",
       "<p>466 rows × 9 columns</p>\n",
       "</div>"
      ],
      "text/plain": [
       "      A  Gender   TB   DB   Alk  Sgpt  Sgot   TP  ALB\n",
       "77   68       1  0.6  0.1  1620    95   127  4.6  2.1\n",
       "581  31       0  1.3  0.5   184    29    32  6.8  3.4\n",
       "210  28       0  0.8  0.3   190    20    14  4.1  2.4\n",
       "192  60       0  2.3  0.6   272    79    51  6.6  3.5\n",
       "449  48       1  0.9  0.2   173    26    27  6.2  3.1\n",
       "..   ..     ...  ...  ...   ...   ...   ...  ...  ...\n",
       "71   75       1  0.8  0.2   188    20    29  4.4  1.8\n",
       "106  36       0  5.3  2.3   145    32    92  5.1  2.6\n",
       "270  37       0  0.7  0.2   235    96    54  9.5  4.9\n",
       "435  17       1  0.5  0.1   206    28    21  7.1  4.5\n",
       "102  17       0  0.9  0.2   224    36    45  6.9  4.2\n",
       "\n",
       "[466 rows x 9 columns]"
      ]
     },
     "execution_count": 88,
     "metadata": {},
     "output_type": "execute_result"
    }
   ],
   "source": [
    "x_train"
   ]
  },
  {
   "cell_type": "code",
   "execution_count": 89,
   "id": "2b6d1f42",
   "metadata": {},
   "outputs": [
    {
     "data": {
      "text/html": [
       "<div>\n",
       "<style scoped>\n",
       "    .dataframe tbody tr th:only-of-type {\n",
       "        vertical-align: middle;\n",
       "    }\n",
       "\n",
       "    .dataframe tbody tr th {\n",
       "        vertical-align: top;\n",
       "    }\n",
       "\n",
       "    .dataframe thead th {\n",
       "        text-align: right;\n",
       "    }\n",
       "</style>\n",
       "<table border=\"1\" class=\"dataframe\">\n",
       "  <thead>\n",
       "    <tr style=\"text-align: right;\">\n",
       "      <th></th>\n",
       "      <th>A</th>\n",
       "      <th>Gender</th>\n",
       "      <th>TB</th>\n",
       "      <th>DB</th>\n",
       "      <th>Alk</th>\n",
       "      <th>Sgpt</th>\n",
       "      <th>Sgot</th>\n",
       "      <th>TP</th>\n",
       "      <th>ALB</th>\n",
       "    </tr>\n",
       "  </thead>\n",
       "  <tbody>\n",
       "    <tr>\n",
       "      <th>355</th>\n",
       "      <td>19</td>\n",
       "      <td>0</td>\n",
       "      <td>1.4</td>\n",
       "      <td>0.8</td>\n",
       "      <td>178</td>\n",
       "      <td>13</td>\n",
       "      <td>26</td>\n",
       "      <td>8.0</td>\n",
       "      <td>4.6</td>\n",
       "    </tr>\n",
       "    <tr>\n",
       "      <th>407</th>\n",
       "      <td>12</td>\n",
       "      <td>0</td>\n",
       "      <td>1.0</td>\n",
       "      <td>0.2</td>\n",
       "      <td>719</td>\n",
       "      <td>157</td>\n",
       "      <td>108</td>\n",
       "      <td>7.2</td>\n",
       "      <td>3.7</td>\n",
       "    </tr>\n",
       "    <tr>\n",
       "      <th>90</th>\n",
       "      <td>60</td>\n",
       "      <td>0</td>\n",
       "      <td>5.7</td>\n",
       "      <td>2.8</td>\n",
       "      <td>214</td>\n",
       "      <td>412</td>\n",
       "      <td>850</td>\n",
       "      <td>7.3</td>\n",
       "      <td>3.2</td>\n",
       "    </tr>\n",
       "    <tr>\n",
       "      <th>402</th>\n",
       "      <td>42</td>\n",
       "      <td>1</td>\n",
       "      <td>0.5</td>\n",
       "      <td>0.1</td>\n",
       "      <td>162</td>\n",
       "      <td>155</td>\n",
       "      <td>108</td>\n",
       "      <td>8.1</td>\n",
       "      <td>4.0</td>\n",
       "    </tr>\n",
       "    <tr>\n",
       "      <th>268</th>\n",
       "      <td>40</td>\n",
       "      <td>0</td>\n",
       "      <td>14.5</td>\n",
       "      <td>6.4</td>\n",
       "      <td>358</td>\n",
       "      <td>50</td>\n",
       "      <td>75</td>\n",
       "      <td>5.7</td>\n",
       "      <td>2.1</td>\n",
       "    </tr>\n",
       "    <tr>\n",
       "      <th>...</th>\n",
       "      <td>...</td>\n",
       "      <td>...</td>\n",
       "      <td>...</td>\n",
       "      <td>...</td>\n",
       "      <td>...</td>\n",
       "      <td>...</td>\n",
       "      <td>...</td>\n",
       "      <td>...</td>\n",
       "      <td>...</td>\n",
       "    </tr>\n",
       "    <tr>\n",
       "      <th>516</th>\n",
       "      <td>60</td>\n",
       "      <td>0</td>\n",
       "      <td>0.9</td>\n",
       "      <td>0.3</td>\n",
       "      <td>168</td>\n",
       "      <td>16</td>\n",
       "      <td>24</td>\n",
       "      <td>6.7</td>\n",
       "      <td>3.0</td>\n",
       "    </tr>\n",
       "    <tr>\n",
       "      <th>305</th>\n",
       "      <td>54</td>\n",
       "      <td>1</td>\n",
       "      <td>1.4</td>\n",
       "      <td>0.7</td>\n",
       "      <td>195</td>\n",
       "      <td>36</td>\n",
       "      <td>16</td>\n",
       "      <td>7.9</td>\n",
       "      <td>3.7</td>\n",
       "    </tr>\n",
       "    <tr>\n",
       "      <th>167</th>\n",
       "      <td>47</td>\n",
       "      <td>1</td>\n",
       "      <td>3.0</td>\n",
       "      <td>1.5</td>\n",
       "      <td>292</td>\n",
       "      <td>64</td>\n",
       "      <td>67</td>\n",
       "      <td>5.6</td>\n",
       "      <td>1.8</td>\n",
       "    </tr>\n",
       "    <tr>\n",
       "      <th>312</th>\n",
       "      <td>27</td>\n",
       "      <td>0</td>\n",
       "      <td>1.3</td>\n",
       "      <td>0.6</td>\n",
       "      <td>106</td>\n",
       "      <td>25</td>\n",
       "      <td>54</td>\n",
       "      <td>8.5</td>\n",
       "      <td>4.8</td>\n",
       "    </tr>\n",
       "    <tr>\n",
       "      <th>329</th>\n",
       "      <td>21</td>\n",
       "      <td>0</td>\n",
       "      <td>0.7</td>\n",
       "      <td>0.2</td>\n",
       "      <td>211</td>\n",
       "      <td>14</td>\n",
       "      <td>23</td>\n",
       "      <td>7.3</td>\n",
       "      <td>4.1</td>\n",
       "    </tr>\n",
       "  </tbody>\n",
       "</table>\n",
       "<p>117 rows × 9 columns</p>\n",
       "</div>"
      ],
      "text/plain": [
       "      A  Gender    TB   DB  Alk  Sgpt  Sgot   TP  ALB\n",
       "355  19       0   1.4  0.8  178    13    26  8.0  4.6\n",
       "407  12       0   1.0  0.2  719   157   108  7.2  3.7\n",
       "90   60       0   5.7  2.8  214   412   850  7.3  3.2\n",
       "402  42       1   0.5  0.1  162   155   108  8.1  4.0\n",
       "268  40       0  14.5  6.4  358    50    75  5.7  2.1\n",
       "..   ..     ...   ...  ...  ...   ...   ...  ...  ...\n",
       "516  60       0   0.9  0.3  168    16    24  6.7  3.0\n",
       "305  54       1   1.4  0.7  195    36    16  7.9  3.7\n",
       "167  47       1   3.0  1.5  292    64    67  5.6  1.8\n",
       "312  27       0   1.3  0.6  106    25    54  8.5  4.8\n",
       "329  21       0   0.7  0.2  211    14    23  7.3  4.1\n",
       "\n",
       "[117 rows x 9 columns]"
      ]
     },
     "execution_count": 89,
     "metadata": {},
     "output_type": "execute_result"
    }
   ],
   "source": [
    "x_test\n"
   ]
  },
  {
   "cell_type": "code",
   "execution_count": 90,
   "id": "e599b386",
   "metadata": {},
   "outputs": [
    {
     "data": {
      "text/plain": [
       "77     1\n",
       "581    1\n",
       "210    1\n",
       "192    1\n",
       "449    1\n",
       "      ..\n",
       "71     1\n",
       "106    2\n",
       "270    1\n",
       "435    2\n",
       "102    1\n",
       "Name: Yesno, Length: 466, dtype: int64"
      ]
     },
     "execution_count": 90,
     "metadata": {},
     "output_type": "execute_result"
    }
   ],
   "source": [
    "y_train\n"
   ]
  },
  {
   "cell_type": "code",
   "execution_count": 91,
   "id": "122bb8ce",
   "metadata": {},
   "outputs": [
    {
     "data": {
      "text/plain": [
       "355    2\n",
       "407    1\n",
       "90     1\n",
       "402    1\n",
       "268    1\n",
       "      ..\n",
       "516    1\n",
       "305    2\n",
       "167    1\n",
       "312    2\n",
       "329    2\n",
       "Name: Yesno, Length: 117, dtype: int64"
      ]
     },
     "execution_count": 91,
     "metadata": {},
     "output_type": "execute_result"
    }
   ],
   "source": [
    "y_test"
   ]
  },
  {
   "cell_type": "code",
   "execution_count": 92,
   "id": "0f217d94",
   "metadata": {},
   "outputs": [],
   "source": [
    "from sklearn.preprocessing import StandardScaler\n",
    "scaler = StandardScaler()\n",
    "X_train=x_train\n",
    "Y_train=y_train\n",
    "X_test=x_test\n",
    "Y_test=y_test"
   ]
  },
  {
   "cell_type": "code",
   "execution_count": null,
   "id": "911fa51a",
   "metadata": {},
   "outputs": [],
   "source": [
    "#feature scaling(not required here)"
   ]
  },
  {
   "cell_type": "code",
   "execution_count": 93,
   "id": "c7a8146b",
   "metadata": {},
   "outputs": [],
   "source": [
    "X_train=scaler.fit_transform(X_train)\n",
    "X_test=scaler.transform(X_test)"
   ]
  },
  {
   "cell_type": "code",
   "execution_count": null,
   "id": "17e03a0c",
   "metadata": {},
   "outputs": [],
   "source": []
  },
  {
   "cell_type": "code",
   "execution_count": 94,
   "id": "c3fc6192",
   "metadata": {},
   "outputs": [],
   "source": [
    "from sklearn.linear_model import LinearRegression\n",
    "##cross validation\n",
    "from sklearn.model_selection import cross_val_score"
   ]
  },
  {
   "cell_type": "code",
   "execution_count": 95,
   "id": "edc5bf1d",
   "metadata": {},
   "outputs": [
    {
     "data": {
      "text/plain": [
       "A         0\n",
       "Gender    0\n",
       "TB        0\n",
       "DB        0\n",
       "Alk       0\n",
       "Sgpt      0\n",
       "Sgot      0\n",
       "TP        0\n",
       "ALB       0\n",
       "Ratio     4\n",
       "Yesno     0\n",
       "dtype: int64"
      ]
     },
     "execution_count": 95,
     "metadata": {},
     "output_type": "execute_result"
    }
   ],
   "source": [
    "df.isnull().sum()"
   ]
  },
  {
   "cell_type": "code",
   "execution_count": 96,
   "id": "112f03c0",
   "metadata": {},
   "outputs": [
    {
     "data": {
      "text/plain": [
       "LinearRegression()"
      ]
     },
     "execution_count": 96,
     "metadata": {},
     "output_type": "execute_result"
    }
   ],
   "source": [
    "regression=LinearRegression()\n",
    "regression.fit(X_train,y_train)"
   ]
  },
  {
   "cell_type": "code",
   "execution_count": null,
   "id": "f70de4ed",
   "metadata": {},
   "outputs": [],
   "source": [
    "#running linear regression on the given dataset"
   ]
  },
  {
   "cell_type": "code",
   "execution_count": 97,
   "id": "eff01c56",
   "metadata": {},
   "outputs": [],
   "source": [
    "mse=cross_val_score(regression,X_train,y_train,scoring='neg_mean_squared_error',cv=10)"
   ]
  },
  {
   "cell_type": "code",
   "execution_count": 98,
   "id": "7e2cb8c8",
   "metadata": {},
   "outputs": [],
   "source": [
    "import numpy as np"
   ]
  },
  {
   "cell_type": "code",
   "execution_count": 99,
   "id": "b0613d10",
   "metadata": {},
   "outputs": [
    {
     "data": {
      "text/plain": [
       "-0.19213103326179332"
      ]
     },
     "execution_count": 99,
     "metadata": {},
     "output_type": "execute_result"
    }
   ],
   "source": [
    "np.mean(mse)"
   ]
  },
  {
   "cell_type": "code",
   "execution_count": 152,
   "id": "fd729886",
   "metadata": {},
   "outputs": [],
   "source": [
    "reg_pred=regression.predict(X_test)"
   ]
  },
  {
   "cell_type": "code",
   "execution_count": 153,
   "id": "5e7b0546",
   "metadata": {},
   "outputs": [
    {
     "data": {
      "text/plain": [
       "array([1.45336355, 1.27928864, 1.0996881 , 1.37661632, 1.10121294,\n",
       "       1.3064194 , 1.45434017, 1.30931665, 1.5191777 , 1.19494945,\n",
       "       1.32430346, 1.50898502, 1.38066329, 1.36048473, 0.92568476,\n",
       "       1.16375634, 1.33019835, 1.3029286 , 1.17564222, 1.28882628,\n",
       "       1.31222499, 1.32909755, 1.10890411, 1.2337248 , 1.18552753,\n",
       "       1.29149283, 1.15216931, 1.11837999, 1.37377347, 1.3604357 ,\n",
       "       1.21560467, 1.3303049 , 1.34343094, 1.30949015, 1.3829716 ,\n",
       "       1.31824448, 1.09736661, 1.26000303, 1.30913188, 1.03630544,\n",
       "       1.32367261, 1.48844976, 1.22120902, 1.2951448 , 1.3984043 ,\n",
       "       1.28569759, 1.48076543, 1.39787523, 1.3902518 , 0.94945901,\n",
       "       1.36900738, 1.15869887, 1.3558111 , 0.83003118, 1.09577127,\n",
       "       1.43588552, 1.45491817, 1.49299133, 1.35074989, 1.40379524,\n",
       "       1.23803677, 1.35806074, 1.40093943, 1.18176586, 1.37164477,\n",
       "       1.33940741, 1.39265903, 1.17191186, 1.29973388, 1.29486454,\n",
       "       1.33720637, 0.91279682, 1.20296596, 1.47282899, 0.97513702,\n",
       "       1.31389306, 1.47951202, 1.36971642, 1.45420963, 1.01821086,\n",
       "       1.23047643, 1.1550457 , 1.3997264 , 0.65107034, 1.31124063,\n",
       "       1.20389785, 1.54741678, 1.21263659, 1.24428838, 1.36591761,\n",
       "       1.34394043, 1.38131112, 1.37593445, 0.65249903, 1.37541336,\n",
       "       1.21966199, 1.37643796, 1.29276676, 1.42401901, 1.39917866,\n",
       "       1.33811198, 1.29442586, 1.39847569, 1.41466864, 1.37466398,\n",
       "       1.41301397, 1.29003036, 1.27925914, 1.38011484, 1.27380127,\n",
       "       1.42262987, 1.30588881, 1.28050689, 1.34215728, 1.26623614,\n",
       "       1.43880695, 1.44916994])"
      ]
     },
     "execution_count": 153,
     "metadata": {},
     "output_type": "execute_result"
    }
   ],
   "source": [
    "reg_pred"
   ]
  },
  {
   "cell_type": "code",
   "execution_count": 154,
   "id": "cefe2334",
   "metadata": {},
   "outputs": [
    {
     "data": {
      "text/plain": [
       "<seaborn.axisgrid.FacetGrid at 0x7f6de6f5b160>"
      ]
     },
     "execution_count": 154,
     "metadata": {},
     "output_type": "execute_result"
    },
    {
     "data": {
      "image/png": "[encoded data removed]",
      "text/plain": [
       "<Figure size 360x360 with 1 Axes>"
      ]
     },
     "metadata": {
      "needs_background": "light"
     },
     "output_type": "display_data"
    }
   ],
   "source": [
    "import seaborn as sns\n",
    "sns.displot(reg_pred-y_test,kind='kde')"
   ]
  },
  {
   "cell_type": "code",
   "execution_count": 149,
   "id": "3267828a",
   "metadata": {},
   "outputs": [],
   "source": [
    "# for i in (0,116):\n",
    "#     reg_pred[i]=int(reg_pred[i])"
   ]
  },
  {
   "cell_type": "code",
   "execution_count": 151,
   "id": "7b9a30b0",
   "metadata": {},
   "outputs": [
    {
     "name": "stdout",
     "output_type": "stream",
     "text": [
      "[1.         1.27928864 1.0996881  1.37661632 1.10121294 1.3064194\n",
      " 1.45434017 1.30931665 1.5191777  1.19494945 1.32430346 1.50898502\n",
      " 1.38066329 1.36048473 0.92568476 1.16375634 1.33019835 1.3029286\n",
      " 1.17564222 1.28882628 1.31222499 1.32909755 1.10890411 1.2337248\n",
      " 1.18552753 1.29149283 1.15216931 1.11837999 1.37377347 1.3604357\n",
      " 1.21560467 1.3303049  1.34343094 1.30949015 1.3829716  1.31824448\n",
      " 1.09736661 1.26000303 1.30913188 1.03630544 1.32367261 1.48844976\n",
      " 1.22120902 1.2951448  1.3984043  1.28569759 1.48076543 1.39787523\n",
      " 1.3902518  0.94945901 1.36900738 1.15869887 1.3558111  0.83003118\n",
      " 1.09577127 1.43588552 1.45491817 1.49299133 1.35074989 1.40379524\n",
      " 1.23803677 1.35806074 1.40093943 1.18176586 1.37164477 1.33940741\n",
      " 1.39265903 1.17191186 1.29973388 1.29486454 1.33720637 0.91279682\n",
      " 1.20296596 1.47282899 0.97513702 1.31389306 1.47951202 1.36971642\n",
      " 1.45420963 1.01821086 1.23047643 1.1550457  1.3997264  0.65107034\n",
      " 1.31124063 1.20389785 1.54741678 1.21263659 1.24428838 1.36591761\n",
      " 1.34394043 1.38131112 1.37593445 0.65249903 1.37541336 1.21966199\n",
      " 1.37643796 1.29276676 1.42401901 1.39917866 1.33811198 1.29442586\n",
      " 1.39847569 1.41466864 1.37466398 1.41301397 1.29003036 1.27925914\n",
      " 1.38011484 1.27380127 1.42262987 1.30588881 1.28050689 1.34215728\n",
      " 1.26623614 1.43880695 1.        ]\n"
     ]
    }
   ],
   "source": [
    "print(reg_pred)"
   ]
  },
  {
   "cell_type": "code",
   "execution_count": 158,
   "id": "eedb7a99",
   "metadata": {
    "scrolled": true
   },
   "outputs": [
    {
     "data": {
      "text/plain": [
       "-5.891865308905352"
      ]
     },
     "execution_count": 158,
     "metadata": {},
     "output_type": "execute_result"
    }
   ],
   "source": [
    "from sklearn.metrics import r2_score\n",
    "score=r2_score(reg_pred,y_test)\n",
    "score"
   ]
  },
  {
   "cell_type": "code",
   "execution_count": 170,
   "id": "c259dc40",
   "metadata": {},
   "outputs": [
    {
     "data": {
      "text/plain": [
       "0.6837606837606838"
      ]
     },
     "execution_count": 170,
     "metadata": {},
     "output_type": "execute_result"
    }
   ],
   "source": [
    "#calculating accuracy score after setting a threshold value\n",
    "reg_pred1=np.floor(reg_pred)\n",
    "score=accuracy_score(reg_pred1,y_test)\n",
    "score"
   ]
  },
  {
   "cell_type": "code",
   "execution_count": null,
   "id": "e8944a1f",
   "metadata": {},
   "outputs": [],
   "source": []
  },
  {
   "cell_type": "code",
   "execution_count": 121,
   "id": "e7676163",
   "metadata": {},
   "outputs": [
    {
     "name": "stdout",
     "output_type": "stream",
     "text": [
      "355    2\n",
      "407    1\n",
      "90     1\n",
      "402    1\n",
      "268    1\n",
      "      ..\n",
      "516    1\n",
      "305    2\n",
      "167    1\n",
      "312    2\n",
      "329    2\n",
      "Name: Yesno, Length: 117, dtype: int64\n",
      "77     1\n",
      "581    1\n",
      "210    1\n",
      "192    1\n",
      "449    1\n",
      "      ..\n",
      "71     1\n",
      "106    2\n",
      "270    1\n",
      "435    2\n",
      "102    1\n",
      "Name: Yesno, Length: 466, dtype: int64\n"
     ]
    }
   ],
   "source": [
    "print(y_test)\n",
    "print(y_train)"
   ]
  },
  {
   "cell_type": "code",
   "execution_count": 104,
   "id": "235f90d8",
   "metadata": {
    "scrolled": false
   },
   "outputs": [
    {
     "name": "stdout",
     "output_type": "stream",
     "text": [
      "mean_squared_error :  0.17051135901077824\n",
      "mean_absolute_error :  0.3701109079194032\n"
     ]
    }
   ],
   "source": [
    "from sklearn.metrics import mean_squared_error, mean_absolute_error\n",
    "predictions =regression.predict(X_test)\n",
    "\n",
    "# model evaluation\n",
    "print('mean_squared_error : ', mean_squared_error(y_test, predictions))\n",
    "print('mean_absolute_error : ', mean_absolute_error(y_test, predictions))\n"
   ]
  },
  {
   "cell_type": "code",
   "execution_count": 110,
   "id": "e37b756b",
   "metadata": {},
   "outputs": [
    {
     "data": {
      "text/plain": [
       "0.7435897435897436"
      ]
     },
     "execution_count": 110,
     "metadata": {},
     "output_type": "execute_result"
    }
   ],
   "source": [
    "#comparing with svm\n",
    "from sklearn import svm\n",
    "svm = svm.SVC()\n",
    "svm.fit(x_train,y_train)\n",
    "y_pred_svm = svm.predict(x_test)\n",
    "accuracy_score(y_test, y_pred_svm)"
   ]
  },
  {
   "cell_type": "code",
   "execution_count": null,
   "id": "ef7c1d04",
   "metadata": {},
   "outputs": [],
   "source": []
  },
  {
   "cell_type": "code",
   "execution_count": 106,
   "id": "8961ada7",
   "metadata": {},
   "outputs": [],
   "source": [
    "#Logistic Regression"
   ]
  },
  {
   "cell_type": "code",
   "execution_count": 107,
   "id": "d4d2cca7",
   "metadata": {},
   "outputs": [],
   "source": [
    "#Calculating logistic regression\n",
    "from sklearn.linear_model import LogisticRegression\n",
    "log = LogisticRegression()\n",
    "log.fit(x_train, y_train)\n",
    "y_pred_log = log.predict(x_test)"
   ]
  },
  {
   "cell_type": "code",
   "execution_count": 108,
   "id": "d03ea102",
   "metadata": {},
   "outputs": [],
   "source": [
    "from sklearn.metrics import accuracy_score"
   ]
  },
  {
   "cell_type": "code",
   "execution_count": 109,
   "id": "46102b73",
   "metadata": {
    "scrolled": true
   },
   "outputs": [
    {
     "data": {
      "text/plain": [
       "0.7692307692307693"
      ]
     },
     "execution_count": 109,
     "metadata": {},
     "output_type": "execute_result"
    }
   ],
   "source": [
    "accuracy_score(y_test,y_pred_log)"
   ]
  },
  {
   "cell_type": "code",
   "execution_count": null,
   "id": "f91d0d5f",
   "metadata": {},
   "outputs": [],
   "source": [
    "#The logistic regression is a better model since this is a continuous dataset and can also be used to classify \n",
    "#the given datset."
   ]
  }
 ],
 "metadata": {
  "kernelspec": {
   "display_name": "Python 3 (ipykernel)",
   "language": "python",
   "name": "python3"
  },
  "language_info": {
   "codemirror_mode": {
    "name": "ipython",
    "version": 3
   },
   "file_extension": ".py",
   "mimetype": "text/x-python",
   "name": "python",
   "nbconvert_exporter": "python",
   "pygments_lexer": "ipython3",
   "version": "3.9.12"
  }
 },
 "nbformat": 4,
 "nbformat_minor": 5
}
