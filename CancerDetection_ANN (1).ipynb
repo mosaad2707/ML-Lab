{
  "cells": [
    {
      "cell_type": "code",
      "source": [
        "#CHANGE RUN TIME TO GPU"
      ],
      "metadata": {
        "id": "uWQZkjK8epl6"
      },
      "id": "uWQZkjK8epl6",
      "execution_count": 1,
      "outputs": []
    },
    {
      "cell_type": "code",
      "execution_count": 2,
      "id": "85fbf311",
      "metadata": {
        "id": "85fbf311"
      },
      "outputs": [],
      "source": [
        "#import the needed libraries\n",
        "import numpy as np\n",
        "import pandas as pd\n",
        "import matplotlib.pyplot as plt\n",
        "import tensorflow as tf\n",
        "from tensorflow import keras\n",
        "import os"
      ]
    },
    {
      "cell_type": "code",
      "execution_count": 3,
      "id": "7cebedfe",
      "metadata": {
        "id": "7cebedfe"
      },
      "outputs": [],
      "source": [
        "#importing of dataset and splitting function\n",
        "from sklearn.datasets import load_breast_cancer\n",
        "from sklearn.model_selection import train_test_split"
      ]
    },
    {
      "cell_type": "code",
      "execution_count": 4,
      "id": "be3eed44",
      "metadata": {
        "id": "be3eed44",
        "colab": {
          "base_uri": "https://localhost:8080/"
        },
        "outputId": "b0ea930a-5ee9-4b88-fd24-2a409839e098"
      },
      "outputs": [
        {
          "output_type": "stream",
          "name": "stdout",
          "text": [
            "dict_keys(['data', 'target', 'frame', 'target_names', 'DESCR', 'feature_names', 'filename', 'data_module'])\n"
          ]
        }
      ],
      "source": [
        "#loading dataset from the package\n",
        "data = load_breast_cancer()\n",
        "#print(data)\n",
        "#the return data is a dictionary\n",
        "#An item has a key and a corresponding value that is expressed as a pair (key: value)\n",
        "\n",
        "#Example\n",
        "\"\"\"\n",
        "dictionary with integer keys\n",
        "my_dict = {1: 'apple', 2: 'ball'}\n",
        "\n",
        "dictionary with mixed keys\n",
        "my_dict = {'name': 'John', 1: [2, 4, 3]}\n",
        "\"\"\"\n",
        "\n",
        "#let's check where is that target values are residing\n",
        "print(data.keys())"
      ]
    },
    {
      "cell_type": "code",
      "execution_count": 5,
      "id": "f8c305e7",
      "metadata": {
        "id": "f8c305e7",
        "colab": {
          "base_uri": "https://localhost:8080/"
        },
        "outputId": "90604bdf-2107-4a76-b671-b93e1b4b4470"
      },
      "outputs": [
        {
          "output_type": "execute_result",
          "data": {
            "text/plain": [
              "array([0, 0, 0, 0, 0, 0, 0, 0, 0, 0, 0, 0, 0, 0, 0, 0, 0, 0, 0, 1, 1, 1,\n",
              "       0, 0, 0, 0, 0, 0, 0, 0, 0, 0, 0, 0, 0, 0, 0, 1, 0, 0, 0, 0, 0, 0,\n",
              "       0, 0, 1, 0, 1, 1, 1, 1, 1, 0, 0, 1, 0, 0, 1, 1, 1, 1, 0, 1, 0, 0,\n",
              "       1, 1, 1, 1, 0, 1, 0, 0, 1, 0, 1, 0, 0, 1, 1, 1, 0, 0, 1, 0, 0, 0,\n",
              "       1, 1, 1, 0, 1, 1, 0, 0, 1, 1, 1, 0, 0, 1, 1, 1, 1, 0, 1, 1, 0, 1,\n",
              "       1, 1, 1, 1, 1, 1, 1, 0, 0, 0, 1, 0, 0, 1, 1, 1, 0, 0, 1, 0, 1, 0,\n",
              "       0, 1, 0, 0, 1, 1, 0, 1, 1, 0, 1, 1, 1, 1, 0, 1, 1, 1, 1, 1, 1, 1,\n",
              "       1, 1, 0, 1, 1, 1, 1, 0, 0, 1, 0, 1, 1, 0, 0, 1, 1, 0, 0, 1, 1, 1,\n",
              "       1, 0, 1, 1, 0, 0, 0, 1, 0, 1, 0, 1, 1, 1, 0, 1, 1, 0, 0, 1, 0, 0,\n",
              "       0, 0, 1, 0, 0, 0, 1, 0, 1, 0, 1, 1, 0, 1, 0, 0, 0, 0, 1, 1, 0, 0,\n",
              "       1, 1, 1, 0, 1, 1, 1, 1, 1, 0, 0, 1, 1, 0, 1, 1, 0, 0, 1, 0, 1, 1,\n",
              "       1, 1, 0, 1, 1, 1, 1, 1, 0, 1, 0, 0, 0, 0, 0, 0, 0, 0, 0, 0, 0, 0,\n",
              "       0, 0, 1, 1, 1, 1, 1, 1, 0, 1, 0, 1, 1, 0, 1, 1, 0, 1, 0, 0, 1, 1,\n",
              "       1, 1, 1, 1, 1, 1, 1, 1, 1, 1, 1, 0, 1, 1, 0, 1, 0, 1, 1, 1, 1, 1,\n",
              "       1, 1, 1, 1, 1, 1, 1, 1, 1, 0, 1, 1, 1, 0, 1, 0, 1, 1, 1, 1, 0, 0,\n",
              "       0, 1, 1, 1, 1, 0, 1, 0, 1, 0, 1, 1, 1, 0, 1, 1, 1, 1, 1, 1, 1, 0,\n",
              "       0, 0, 1, 1, 1, 1, 1, 1, 1, 1, 1, 1, 1, 0, 0, 1, 0, 0, 0, 1, 0, 0,\n",
              "       1, 1, 1, 1, 1, 0, 1, 1, 1, 1, 1, 0, 1, 1, 1, 0, 1, 1, 0, 0, 1, 1,\n",
              "       1, 1, 1, 1, 0, 1, 1, 1, 1, 1, 1, 1, 0, 1, 1, 1, 1, 1, 0, 1, 1, 0,\n",
              "       1, 1, 1, 1, 1, 1, 1, 1, 1, 1, 1, 1, 0, 1, 0, 0, 1, 0, 1, 1, 1, 1,\n",
              "       1, 0, 1, 1, 0, 1, 0, 1, 1, 0, 1, 0, 1, 1, 1, 1, 1, 1, 1, 1, 0, 0,\n",
              "       1, 1, 1, 1, 1, 1, 0, 1, 1, 1, 1, 1, 1, 1, 1, 1, 1, 0, 1, 1, 1, 1,\n",
              "       1, 1, 1, 0, 1, 0, 1, 1, 0, 1, 1, 1, 1, 1, 0, 0, 1, 0, 1, 0, 1, 1,\n",
              "       1, 1, 1, 0, 1, 1, 0, 1, 0, 1, 0, 0, 1, 1, 1, 0, 1, 1, 1, 1, 1, 1,\n",
              "       1, 1, 1, 1, 1, 0, 1, 0, 0, 1, 1, 1, 1, 1, 1, 1, 1, 1, 1, 1, 1, 1,\n",
              "       1, 1, 1, 1, 1, 1, 1, 1, 1, 1, 1, 1, 0, 0, 0, 0, 0, 0, 1])"
            ]
          },
          "metadata": {},
          "execution_count": 5
        }
      ],
      "source": [
        "#As of this sample dataset \"data\" is the input features\n",
        "#and \"target\" is the target values (Expected output)\n",
        "#\"feature_names\" means the attributes\n",
        "data['target']"
      ]
    },
    {
      "cell_type": "code",
      "execution_count": 6,
      "id": "05fe5311",
      "metadata": {
        "id": "05fe5311",
        "colab": {
          "base_uri": "https://localhost:8080/",
          "height": 290
        },
        "outputId": "1925d869-2fe5-4933-96bc-c6a796a0071c"
      },
      "outputs": [
        {
          "output_type": "execute_result",
          "data": {
            "text/plain": [
              "   mean radius  mean texture  mean perimeter  mean area  mean smoothness  \\\n",
              "0        17.99         10.38          122.80     1001.0          0.11840   \n",
              "1        20.57         17.77          132.90     1326.0          0.08474   \n",
              "2        19.69         21.25          130.00     1203.0          0.10960   \n",
              "3        11.42         20.38           77.58      386.1          0.14250   \n",
              "4        20.29         14.34          135.10     1297.0          0.10030   \n",
              "\n",
              "   mean compactness  mean concavity  mean concave points  mean symmetry  \\\n",
              "0           0.27760          0.3001              0.14710         0.2419   \n",
              "1           0.07864          0.0869              0.07017         0.1812   \n",
              "2           0.15990          0.1974              0.12790         0.2069   \n",
              "3           0.28390          0.2414              0.10520         0.2597   \n",
              "4           0.13280          0.1980              0.10430         0.1809   \n",
              "\n",
              "   mean fractal dimension  ...  worst texture  worst perimeter  worst area  \\\n",
              "0                 0.07871  ...          17.33           184.60      2019.0   \n",
              "1                 0.05667  ...          23.41           158.80      1956.0   \n",
              "2                 0.05999  ...          25.53           152.50      1709.0   \n",
              "3                 0.09744  ...          26.50            98.87       567.7   \n",
              "4                 0.05883  ...          16.67           152.20      1575.0   \n",
              "\n",
              "   worst smoothness  worst compactness  worst concavity  worst concave points  \\\n",
              "0            0.1622             0.6656           0.7119                0.2654   \n",
              "1            0.1238             0.1866           0.2416                0.1860   \n",
              "2            0.1444             0.4245           0.4504                0.2430   \n",
              "3            0.2098             0.8663           0.6869                0.2575   \n",
              "4            0.1374             0.2050           0.4000                0.1625   \n",
              "\n",
              "   worst symmetry  worst fractal dimension  target  \n",
              "0          0.4601                  0.11890       0  \n",
              "1          0.2750                  0.08902       0  \n",
              "2          0.3613                  0.08758       0  \n",
              "3          0.6638                  0.17300       0  \n",
              "4          0.2364                  0.07678       0  \n",
              "\n",
              "[5 rows x 31 columns]"
            ],
            "text/html": [
              "\n",
              "  <div id=\"df-7d5d378c-5c5c-4128-9b0c-e1525d376875\" class=\"colab-df-container\">\n",
              "    <div>\n",
              "<style scoped>\n",
              "    .dataframe tbody tr th:only-of-type {\n",
              "        vertical-align: middle;\n",
              "    }\n",
              "\n",
              "    .dataframe tbody tr th {\n",
              "        vertical-align: top;\n",
              "    }\n",
              "\n",
              "    .dataframe thead th {\n",
              "        text-align: right;\n",
              "    }\n",
              "</style>\n",
              "<table border=\"1\" class=\"dataframe\">\n",
              "  <thead>\n",
              "    <tr style=\"text-align: right;\">\n",
              "      <th></th>\n",
              "      <th>mean radius</th>\n",
              "      <th>mean texture</th>\n",
              "      <th>mean perimeter</th>\n",
              "      <th>mean area</th>\n",
              "      <th>mean smoothness</th>\n",
              "      <th>mean compactness</th>\n",
              "      <th>mean concavity</th>\n",
              "      <th>mean concave points</th>\n",
              "      <th>mean symmetry</th>\n",
              "      <th>mean fractal dimension</th>\n",
              "      <th>...</th>\n",
              "      <th>worst texture</th>\n",
              "      <th>worst perimeter</th>\n",
              "      <th>worst area</th>\n",
              "      <th>worst smoothness</th>\n",
              "      <th>worst compactness</th>\n",
              "      <th>worst concavity</th>\n",
              "      <th>worst concave points</th>\n",
              "      <th>worst symmetry</th>\n",
              "      <th>worst fractal dimension</th>\n",
              "      <th>target</th>\n",
              "    </tr>\n",
              "  </thead>\n",
              "  <tbody>\n",
              "    <tr>\n",
              "      <th>0</th>\n",
              "      <td>17.99</td>\n",
              "      <td>10.38</td>\n",
              "      <td>122.80</td>\n",
              "      <td>1001.0</td>\n",
              "      <td>0.11840</td>\n",
              "      <td>0.27760</td>\n",
              "      <td>0.3001</td>\n",
              "      <td>0.14710</td>\n",
              "      <td>0.2419</td>\n",
              "      <td>0.07871</td>\n",
              "      <td>...</td>\n",
              "      <td>17.33</td>\n",
              "      <td>184.60</td>\n",
              "      <td>2019.0</td>\n",
              "      <td>0.1622</td>\n",
              "      <td>0.6656</td>\n",
              "      <td>0.7119</td>\n",
              "      <td>0.2654</td>\n",
              "      <td>0.4601</td>\n",
              "      <td>0.11890</td>\n",
              "      <td>0</td>\n",
              "    </tr>\n",
              "    <tr>\n",
              "      <th>1</th>\n",
              "      <td>20.57</td>\n",
              "      <td>17.77</td>\n",
              "      <td>132.90</td>\n",
              "      <td>1326.0</td>\n",
              "      <td>0.08474</td>\n",
              "      <td>0.07864</td>\n",
              "      <td>0.0869</td>\n",
              "      <td>0.07017</td>\n",
              "      <td>0.1812</td>\n",
              "      <td>0.05667</td>\n",
              "      <td>...</td>\n",
              "      <td>23.41</td>\n",
              "      <td>158.80</td>\n",
              "      <td>1956.0</td>\n",
              "      <td>0.1238</td>\n",
              "      <td>0.1866</td>\n",
              "      <td>0.2416</td>\n",
              "      <td>0.1860</td>\n",
              "      <td>0.2750</td>\n",
              "      <td>0.08902</td>\n",
              "      <td>0</td>\n",
              "    </tr>\n",
              "    <tr>\n",
              "      <th>2</th>\n",
              "      <td>19.69</td>\n",
              "      <td>21.25</td>\n",
              "      <td>130.00</td>\n",
              "      <td>1203.0</td>\n",
              "      <td>0.10960</td>\n",
              "      <td>0.15990</td>\n",
              "      <td>0.1974</td>\n",
              "      <td>0.12790</td>\n",
              "      <td>0.2069</td>\n",
              "      <td>0.05999</td>\n",
              "      <td>...</td>\n",
              "      <td>25.53</td>\n",
              "      <td>152.50</td>\n",
              "      <td>1709.0</td>\n",
              "      <td>0.1444</td>\n",
              "      <td>0.4245</td>\n",
              "      <td>0.4504</td>\n",
              "      <td>0.2430</td>\n",
              "      <td>0.3613</td>\n",
              "      <td>0.08758</td>\n",
              "      <td>0</td>\n",
              "    </tr>\n",
              "    <tr>\n",
              "      <th>3</th>\n",
              "      <td>11.42</td>\n",
              "      <td>20.38</td>\n",
              "      <td>77.58</td>\n",
              "      <td>386.1</td>\n",
              "      <td>0.14250</td>\n",
              "      <td>0.28390</td>\n",
              "      <td>0.2414</td>\n",
              "      <td>0.10520</td>\n",
              "      <td>0.2597</td>\n",
              "      <td>0.09744</td>\n",
              "      <td>...</td>\n",
              "      <td>26.50</td>\n",
              "      <td>98.87</td>\n",
              "      <td>567.7</td>\n",
              "      <td>0.2098</td>\n",
              "      <td>0.8663</td>\n",
              "      <td>0.6869</td>\n",
              "      <td>0.2575</td>\n",
              "      <td>0.6638</td>\n",
              "      <td>0.17300</td>\n",
              "      <td>0</td>\n",
              "    </tr>\n",
              "    <tr>\n",
              "      <th>4</th>\n",
              "      <td>20.29</td>\n",
              "      <td>14.34</td>\n",
              "      <td>135.10</td>\n",
              "      <td>1297.0</td>\n",
              "      <td>0.10030</td>\n",
              "      <td>0.13280</td>\n",
              "      <td>0.1980</td>\n",
              "      <td>0.10430</td>\n",
              "      <td>0.1809</td>\n",
              "      <td>0.05883</td>\n",
              "      <td>...</td>\n",
              "      <td>16.67</td>\n",
              "      <td>152.20</td>\n",
              "      <td>1575.0</td>\n",
              "      <td>0.1374</td>\n",
              "      <td>0.2050</td>\n",
              "      <td>0.4000</td>\n",
              "      <td>0.1625</td>\n",
              "      <td>0.2364</td>\n",
              "      <td>0.07678</td>\n",
              "      <td>0</td>\n",
              "    </tr>\n",
              "  </tbody>\n",
              "</table>\n",
              "<p>5 rows × 31 columns</p>\n",
              "</div>\n",
              "    <div class=\"colab-df-buttons\">\n",
              "\n",
              "  <div class=\"colab-df-container\">\n",
              "    <button class=\"colab-df-convert\" onclick=\"convertToInteractive('df-7d5d378c-5c5c-4128-9b0c-e1525d376875')\"\n",
              "            title=\"Convert this dataframe to an interactive table.\"\n",
              "            style=\"display:none;\">\n",
              "\n",
              "  <svg xmlns=\"http://www.w3.org/2000/svg\" height=\"24px\" viewBox=\"0 -960 960 960\">\n",
              "    <path d=\"M120-120v-720h720v720H120Zm60-500h600v-160H180v160Zm220 220h160v-160H400v160Zm0 220h160v-160H400v160ZM180-400h160v-160H180v160Zm440 0h160v-160H620v160ZM180-180h160v-160H180v160Zm440 0h160v-160H620v160Z\"/>\n",
              "  </svg>\n",
              "    </button>\n",
              "\n",
              "  <style>\n",
              "    .colab-df-container {\n",
              "      display:flex;\n",
              "      gap: 12px;\n",
              "    }\n",
              "\n",
              "    .colab-df-convert {\n",
              "      background-color: #E8F0FE;\n",
              "      border: none;\n",
              "      border-radius: 50%;\n",
              "      cursor: pointer;\n",
              "      display: none;\n",
              "      fill: #1967D2;\n",
              "      height: 32px;\n",
              "      padding: 0 0 0 0;\n",
              "      width: 32px;\n",
              "    }\n",
              "\n",
              "    .colab-df-convert:hover {\n",
              "      background-color: #E2EBFA;\n",
              "      box-shadow: 0px 1px 2px rgba(60, 64, 67, 0.3), 0px 1px 3px 1px rgba(60, 64, 67, 0.15);\n",
              "      fill: #174EA6;\n",
              "    }\n",
              "\n",
              "    .colab-df-buttons div {\n",
              "      margin-bottom: 4px;\n",
              "    }\n",
              "\n",
              "    [theme=dark] .colab-df-convert {\n",
              "      background-color: #3B4455;\n",
              "      fill: #D2E3FC;\n",
              "    }\n",
              "\n",
              "    [theme=dark] .colab-df-convert:hover {\n",
              "      background-color: #434B5C;\n",
              "      box-shadow: 0px 1px 3px 1px rgba(0, 0, 0, 0.15);\n",
              "      filter: drop-shadow(0px 1px 2px rgba(0, 0, 0, 0.3));\n",
              "      fill: #FFFFFF;\n",
              "    }\n",
              "  </style>\n",
              "\n",
              "    <script>\n",
              "      const buttonEl =\n",
              "        document.querySelector('#df-7d5d378c-5c5c-4128-9b0c-e1525d376875 button.colab-df-convert');\n",
              "      buttonEl.style.display =\n",
              "        google.colab.kernel.accessAllowed ? 'block' : 'none';\n",
              "\n",
              "      async function convertToInteractive(key) {\n",
              "        const element = document.querySelector('#df-7d5d378c-5c5c-4128-9b0c-e1525d376875');\n",
              "        const dataTable =\n",
              "          await google.colab.kernel.invokeFunction('convertToInteractive',\n",
              "                                                    [key], {});\n",
              "        if (!dataTable) return;\n",
              "\n",
              "        const docLinkHtml = 'Like what you see? Visit the ' +\n",
              "          '<a target=\"_blank\" href=https://colab.research.google.com/notebooks/data_table.ipynb>data table notebook</a>'\n",
              "          + ' to learn more about interactive tables.';\n",
              "        element.innerHTML = '';\n",
              "        dataTable['output_type'] = 'display_data';\n",
              "        await google.colab.output.renderOutput(dataTable, element);\n",
              "        const docLink = document.createElement('div');\n",
              "        docLink.innerHTML = docLinkHtml;\n",
              "        element.appendChild(docLink);\n",
              "      }\n",
              "    </script>\n",
              "  </div>\n",
              "\n",
              "\n",
              "<div id=\"df-adf11cd6-835f-4f7d-aa27-6ef5220426ad\">\n",
              "  <button class=\"colab-df-quickchart\" onclick=\"quickchart('df-adf11cd6-835f-4f7d-aa27-6ef5220426ad')\"\n",
              "            title=\"Suggest charts.\"\n",
              "            style=\"display:none;\">\n",
              "\n",
              "<svg xmlns=\"http://www.w3.org/2000/svg\" height=\"24px\"viewBox=\"0 0 24 24\"\n",
              "     width=\"24px\">\n",
              "    <g>\n",
              "        <path d=\"M19 3H5c-1.1 0-2 .9-2 2v14c0 1.1.9 2 2 2h14c1.1 0 2-.9 2-2V5c0-1.1-.9-2-2-2zM9 17H7v-7h2v7zm4 0h-2V7h2v10zm4 0h-2v-4h2v4z\"/>\n",
              "    </g>\n",
              "</svg>\n",
              "  </button>\n",
              "\n",
              "<style>\n",
              "  .colab-df-quickchart {\n",
              "      --bg-color: #E8F0FE;\n",
              "      --fill-color: #1967D2;\n",
              "      --hover-bg-color: #E2EBFA;\n",
              "      --hover-fill-color: #174EA6;\n",
              "      --disabled-fill-color: #AAA;\n",
              "      --disabled-bg-color: #DDD;\n",
              "  }\n",
              "\n",
              "  [theme=dark] .colab-df-quickchart {\n",
              "      --bg-color: #3B4455;\n",
              "      --fill-color: #D2E3FC;\n",
              "      --hover-bg-color: #434B5C;\n",
              "      --hover-fill-color: #FFFFFF;\n",
              "      --disabled-bg-color: #3B4455;\n",
              "      --disabled-fill-color: #666;\n",
              "  }\n",
              "\n",
              "  .colab-df-quickchart {\n",
              "    background-color: var(--bg-color);\n",
              "    border: none;\n",
              "    border-radius: 50%;\n",
              "    cursor: pointer;\n",
              "    display: none;\n",
              "    fill: var(--fill-color);\n",
              "    height: 32px;\n",
              "    padding: 0;\n",
              "    width: 32px;\n",
              "  }\n",
              "\n",
              "  .colab-df-quickchart:hover {\n",
              "    background-color: var(--hover-bg-color);\n",
              "    box-shadow: 0 1px 2px rgba(60, 64, 67, 0.3), 0 1px 3px 1px rgba(60, 64, 67, 0.15);\n",
              "    fill: var(--button-hover-fill-color);\n",
              "  }\n",
              "\n",
              "  .colab-df-quickchart-complete:disabled,\n",
              "  .colab-df-quickchart-complete:disabled:hover {\n",
              "    background-color: var(--disabled-bg-color);\n",
              "    fill: var(--disabled-fill-color);\n",
              "    box-shadow: none;\n",
              "  }\n",
              "\n",
              "  .colab-df-spinner {\n",
              "    border: 2px solid var(--fill-color);\n",
              "    border-color: transparent;\n",
              "    border-bottom-color: var(--fill-color);\n",
              "    animation:\n",
              "      spin 1s steps(1) infinite;\n",
              "  }\n",
              "\n",
              "  @keyframes spin {\n",
              "    0% {\n",
              "      border-color: transparent;\n",
              "      border-bottom-color: var(--fill-color);\n",
              "      border-left-color: var(--fill-color);\n",
              "    }\n",
              "    20% {\n",
              "      border-color: transparent;\n",
              "      border-left-color: var(--fill-color);\n",
              "      border-top-color: var(--fill-color);\n",
              "    }\n",
              "    30% {\n",
              "      border-color: transparent;\n",
              "      border-left-color: var(--fill-color);\n",
              "      border-top-color: var(--fill-color);\n",
              "      border-right-color: var(--fill-color);\n",
              "    }\n",
              "    40% {\n",
              "      border-color: transparent;\n",
              "      border-right-color: var(--fill-color);\n",
              "      border-top-color: var(--fill-color);\n",
              "    }\n",
              "    60% {\n",
              "      border-color: transparent;\n",
              "      border-right-color: var(--fill-color);\n",
              "    }\n",
              "    80% {\n",
              "      border-color: transparent;\n",
              "      border-right-color: var(--fill-color);\n",
              "      border-bottom-color: var(--fill-color);\n",
              "    }\n",
              "    90% {\n",
              "      border-color: transparent;\n",
              "      border-bottom-color: var(--fill-color);\n",
              "    }\n",
              "  }\n",
              "</style>\n",
              "\n",
              "  <script>\n",
              "    async function quickchart(key) {\n",
              "      const quickchartButtonEl =\n",
              "        document.querySelector('#' + key + ' button');\n",
              "      quickchartButtonEl.disabled = true;  // To prevent multiple clicks.\n",
              "      quickchartButtonEl.classList.add('colab-df-spinner');\n",
              "      try {\n",
              "        const charts = await google.colab.kernel.invokeFunction(\n",
              "            'suggestCharts', [key], {});\n",
              "      } catch (error) {\n",
              "        console.error('Error during call to suggestCharts:', error);\n",
              "      }\n",
              "      quickchartButtonEl.classList.remove('colab-df-spinner');\n",
              "      quickchartButtonEl.classList.add('colab-df-quickchart-complete');\n",
              "    }\n",
              "    (() => {\n",
              "      let quickchartButtonEl =\n",
              "        document.querySelector('#df-adf11cd6-835f-4f7d-aa27-6ef5220426ad button');\n",
              "      quickchartButtonEl.style.display =\n",
              "        google.colab.kernel.accessAllowed ? 'block' : 'none';\n",
              "    })();\n",
              "  </script>\n",
              "</div>\n",
              "    </div>\n",
              "  </div>\n"
            ]
          },
          "metadata": {},
          "execution_count": 6
        }
      ],
      "source": [
        "#Visualise the imported data in the form of table\n",
        "\n",
        "#First we have to convert the data into a two-dimensional table with rows and columns\n",
        "\n",
        "#Turn the feature data into a dataframe\n",
        "df = pd.DataFrame(data.data, columns = data.feature_names)\n",
        "\n",
        "# Add the target columns, and fill it with the target data\n",
        "df[\"target\"] = data.target\n",
        "\n",
        "#If the \"target\" attribute was in string format we need to convert it into integer labels\n",
        "\n",
        "\"\"\"\n",
        "from sklearn.preprocessing import LabelEncoder\n",
        "encoder = LabelEncoder()\n",
        "df[\"target\"] = encoder.fit_transform(df['target'])\n",
        "\"\"\"\n",
        "\n",
        "df.head()"
      ]
    },
    {
      "cell_type": "code",
      "source": [
        "from google.colab import drive\n",
        "drive.mount('/content/drive')"
      ],
      "metadata": {
        "id": "7QC8NBjLrD5S",
        "colab": {
          "base_uri": "https://localhost:8080/"
        },
        "outputId": "ebc1916a-ace9-4425-f2aa-9785d9da43cb"
      },
      "id": "7QC8NBjLrD5S",
      "execution_count": 7,
      "outputs": [
        {
          "output_type": "stream",
          "name": "stdout",
          "text": [
            "Mounted at /content/drive\n"
          ]
        }
      ]
    },
    {
      "cell_type": "code",
      "execution_count": null,
      "id": "a12af119",
      "metadata": {
        "id": "a12af119"
      },
      "outputs": [],
      "source": [
        "#loading a csv file\n",
        "#df = pd.read_csv(\"../input/breast-cancer-wisconsin-data/data.csv\")\n",
        "\n",
        "#Id column is not useful, we will drop it\n",
        "#df.drop(\"Unnamed: 32\", axis=1, inplace=True)"
      ]
    },
    {
      "cell_type": "code",
      "execution_count": 8,
      "id": "753285d8",
      "metadata": {
        "id": "753285d8",
        "colab": {
          "base_uri": "https://localhost:8080/"
        },
        "outputId": "7cbe2695-70bc-4bbf-b4be-6a43853b500c"
      },
      "outputs": [
        {
          "output_type": "stream",
          "name": "stdout",
          "text": [
            "     mean radius  mean texture  mean perimeter  mean area  mean smoothness  \\\n",
            "564        21.56         22.39          142.00     1479.0          0.11100   \n",
            "565        20.13         28.25          131.20     1261.0          0.09780   \n",
            "566        16.60         28.08          108.30      858.1          0.08455   \n",
            "567        20.60         29.33          140.10     1265.0          0.11780   \n",
            "568         7.76         24.54           47.92      181.0          0.05263   \n",
            "\n",
            "     mean compactness  mean concavity  mean concave points  mean symmetry  \\\n",
            "564           0.11590         0.24390              0.13890         0.1726   \n",
            "565           0.10340         0.14400              0.09791         0.1752   \n",
            "566           0.10230         0.09251              0.05302         0.1590   \n",
            "567           0.27700         0.35140              0.15200         0.2397   \n",
            "568           0.04362         0.00000              0.00000         0.1587   \n",
            "\n",
            "     mean fractal dimension  ...  worst texture  worst perimeter  worst area  \\\n",
            "564                 0.05623  ...          26.40           166.10      2027.0   \n",
            "565                 0.05533  ...          38.25           155.00      1731.0   \n",
            "566                 0.05648  ...          34.12           126.70      1124.0   \n",
            "567                 0.07016  ...          39.42           184.60      1821.0   \n",
            "568                 0.05884  ...          30.37            59.16       268.6   \n",
            "\n",
            "     worst smoothness  worst compactness  worst concavity  \\\n",
            "564           0.14100            0.21130           0.4107   \n",
            "565           0.11660            0.19220           0.3215   \n",
            "566           0.11390            0.30940           0.3403   \n",
            "567           0.16500            0.86810           0.9387   \n",
            "568           0.08996            0.06444           0.0000   \n",
            "\n",
            "     worst concave points  worst symmetry  worst fractal dimension  target  \n",
            "564                0.2216          0.2060                  0.07115       0  \n",
            "565                0.1628          0.2572                  0.06637       0  \n",
            "566                0.1418          0.2218                  0.07820       0  \n",
            "567                0.2650          0.4087                  0.12400       0  \n",
            "568                0.0000          0.2871                  0.07039       1  \n",
            "\n",
            "[5 rows x 31 columns]\n"
          ]
        }
      ],
      "source": [
        "#print last few raws of the dataframe\n",
        "print(df.tail())"
      ]
    },
    {
      "cell_type": "code",
      "source": [
        "#let's see the number of patients belongs to each class\n",
        "df[\"target\"].value_counts()\n",
        "\n",
        "######END OF VISUALIZATION OF DATA"
      ],
      "metadata": {
        "id": "BgoxFivqipt8",
        "colab": {
          "base_uri": "https://localhost:8080/"
        },
        "outputId": "015d8676-4e15-4dbf-e139-4badbfe0675e"
      },
      "id": "BgoxFivqipt8",
      "execution_count": 9,
      "outputs": [
        {
          "output_type": "execute_result",
          "data": {
            "text/plain": [
              "1    357\n",
              "0    212\n",
              "Name: target, dtype: int64"
            ]
          },
          "metadata": {},
          "execution_count": 9
        }
      ]
    },
    {
      "cell_type": "code",
      "execution_count": 10,
      "id": "a3a283c1",
      "metadata": {
        "id": "a3a283c1"
      },
      "outputs": [],
      "source": [
        "#split the data into training set and test set\n",
        "# store data in X and y variables\n",
        "X = data.data\n",
        "y = data.target\n",
        "\n",
        "# Split the data using Scikit-Learn‘s train_test_split\n",
        "X_train, X_test, y_train, y_test = train_test_split(X, y, test_size=0.2, random_state=0)"
      ]
    },
    {
      "cell_type": "code",
      "execution_count": 11,
      "id": "ea1d4937",
      "metadata": {
        "id": "ea1d4937",
        "colab": {
          "base_uri": "https://localhost:8080/"
        },
        "outputId": "a2117701-39f3-4b34-adcb-ce14cf4da8de"
      },
      "outputs": [
        {
          "output_type": "execute_result",
          "data": {
            "text/plain": [
              "(455, 30)"
            ]
          },
          "metadata": {},
          "execution_count": 11
        }
      ],
      "source": [
        "#to view the training set size\n",
        "X_train.shape\n",
        "#X_test.shape"
      ]
    },
    {
      "cell_type": "code",
      "execution_count": 12,
      "id": "41ddbeb5",
      "metadata": {
        "id": "41ddbeb5"
      },
      "outputs": [],
      "source": [
        "#create a model\n",
        "model = keras.Sequential([\n",
        "    keras.layers.Dense(256, activation='relu'),\n",
        "    keras.layers.Dense(128, activation='relu'),\n",
        "    keras.layers.Dense(1, activation='sigmoid')\n",
        "])"
      ]
    },
    {
      "cell_type": "code",
      "source": [
        "#build the model and print the model summary use the plot_model function to visualize the model\n",
        "model.build((455,30))\n",
        "print(model.summary())"
      ],
      "metadata": {
        "id": "WDYfM-jD0lmx",
        "colab": {
          "base_uri": "https://localhost:8080/"
        },
        "outputId": "c1fbeaa1-b051-4404-a297-0c29c958594b"
      },
      "id": "WDYfM-jD0lmx",
      "execution_count": 13,
      "outputs": [
        {
          "output_type": "stream",
          "name": "stdout",
          "text": [
            "Model: \"sequential\"\n",
            "_________________________________________________________________\n",
            " Layer (type)                Output Shape              Param #   \n",
            "=================================================================\n",
            " dense (Dense)               (455, 256)                7936      \n",
            "                                                                 \n",
            " dense_1 (Dense)             (455, 128)                32896     \n",
            "                                                                 \n",
            " dense_2 (Dense)             (455, 1)                  129       \n",
            "                                                                 \n",
            "=================================================================\n",
            "Total params: 40961 (160.00 KB)\n",
            "Trainable params: 40961 (160.00 KB)\n",
            "Non-trainable params: 0 (0.00 Byte)\n",
            "_________________________________________________________________\n",
            "None\n"
          ]
        }
      ]
    },
    {
      "cell_type": "code",
      "source": [
        "#we can visualize the structure of our model (ANN)\n",
        "tf.keras.utils.plot_model(model, to_file='model_plot.png', show_shapes=True, show_layer_names=True)"
      ],
      "metadata": {
        "id": "aOpnL9Y608dU",
        "colab": {
          "base_uri": "https://localhost:8080/",
          "height": 422
        },
        "outputId": "82dfcace-1c13-416b-bbee-f9423ae61a12"
      },
      "id": "aOpnL9Y608dU",
      "execution_count": 14,
      "outputs": [
        {
          "output_type": "execute_result",
          "data": {
            "image/png": "[encoded data removed]",
            "text/plain": [
              "<IPython.core.display.Image object>"
            ]
          },
          "metadata": {},
          "execution_count": 14
        }
      ]
    },
    {
      "cell_type": "code",
      "source": [
        "#config the model with optimizer, losses and metrics\n",
        "model.compile(optimizer='Adam', loss='binary_crossentropy',\n",
        "              metrics='Accuracy')\n",
        "\n",
        "#how to put MSE in metrics\n",
        "#model.compile(optimizer='Adam', loss='binary_crossentropy',\n",
        "#              metrics=[tf.keras.metrics.MeanSquaredError()])"
      ],
      "metadata": {
        "id": "KTSAzPMn1Kaj"
      },
      "id": "KTSAzPMn1Kaj",
      "execution_count": 15,
      "outputs": []
    },
    {
      "cell_type": "code",
      "execution_count": 17,
      "id": "b3a1bf8b",
      "metadata": {
        "id": "b3a1bf8b",
        "colab": {
          "base_uri": "https://localhost:8080/"
        },
        "outputId": "bc619bce-101b-488d-fe4b-9be96eceef0b"
      },
      "outputs": [
        {
          "output_type": "stream",
          "name": "stdout",
          "text": [
            "Epoch 1/20\n",
            "15/15 [==============================] - 0s 6ms/step - loss: 0.4405 - Accuracy: 0.9099\n",
            "Epoch 2/20\n",
            "15/15 [==============================] - 0s 7ms/step - loss: 0.6498 - Accuracy: 0.8835\n",
            "Epoch 3/20\n",
            "15/15 [==============================] - 0s 8ms/step - loss: 0.5011 - Accuracy: 0.9077\n",
            "Epoch 4/20\n",
            "15/15 [==============================] - 0s 5ms/step - loss: 1.0197 - Accuracy: 0.8418\n",
            "Epoch 5/20\n",
            "15/15 [==============================] - 0s 3ms/step - loss: 0.3656 - Accuracy: 0.9275\n",
            "Epoch 6/20\n",
            "15/15 [==============================] - 0s 3ms/step - loss: 0.2875 - Accuracy: 0.9275\n",
            "Epoch 7/20\n",
            "15/15 [==============================] - 0s 4ms/step - loss: 0.3234 - Accuracy: 0.9187\n",
            "Epoch 8/20\n",
            "15/15 [==============================] - 0s 3ms/step - loss: 0.3841 - Accuracy: 0.9143\n",
            "Epoch 9/20\n",
            "15/15 [==============================] - 0s 4ms/step - loss: 0.4625 - Accuracy: 0.8857\n",
            "Epoch 10/20\n",
            "15/15 [==============================] - 0s 3ms/step - loss: 0.3816 - Accuracy: 0.9077\n",
            "Epoch 11/20\n",
            "15/15 [==============================] - 0s 4ms/step - loss: 0.5752 - Accuracy: 0.8637\n",
            "Epoch 12/20\n",
            "15/15 [==============================] - 0s 3ms/step - loss: 0.8781 - Accuracy: 0.8593\n",
            "Epoch 13/20\n",
            "15/15 [==============================] - 0s 3ms/step - loss: 0.4088 - Accuracy: 0.9231\n",
            "Epoch 14/20\n",
            "15/15 [==============================] - 0s 10ms/step - loss: 0.4318 - Accuracy: 0.9275\n",
            "Epoch 15/20\n",
            "15/15 [==============================] - 0s 7ms/step - loss: 0.8615 - Accuracy: 0.8549\n",
            "Epoch 16/20\n",
            "15/15 [==============================] - 0s 4ms/step - loss: 1.2211 - Accuracy: 0.8374\n",
            "Epoch 17/20\n",
            "15/15 [==============================] - 0s 4ms/step - loss: 1.1225 - Accuracy: 0.8462\n",
            "Epoch 18/20\n",
            "15/15 [==============================] - 0s 3ms/step - loss: 1.5720 - Accuracy: 0.8308\n",
            "Epoch 19/20\n",
            "15/15 [==============================] - 0s 3ms/step - loss: 1.1627 - Accuracy: 0.8857\n",
            "Epoch 20/20\n",
            "15/15 [==============================] - 0s 4ms/step - loss: 0.4845 - Accuracy: 0.9099\n"
          ]
        }
      ],
      "source": [
        "#train the model using the training set\n",
        "history = model.fit(X_train, y_train, epochs=20)"
      ]
    },
    {
      "cell_type": "code",
      "execution_count": 18,
      "id": "44c5f9be",
      "metadata": {
        "id": "44c5f9be",
        "colab": {
          "base_uri": "https://localhost:8080/"
        },
        "outputId": "485975b3-be3c-463f-9223-8c9b3af60d2a"
      },
      "outputs": [
        {
          "output_type": "stream",
          "name": "stdout",
          "text": [
            "15/15 [==============================] - 0s 3ms/step - loss: 0.5360 - Accuracy: 0.9209\n",
            "Training Accuracy: 92.09%\n",
            "\n",
            "4/4 [==============================] - 0s 4ms/step - loss: 0.5624 - Accuracy: 0.9386\n",
            "Testing Accuracy: 93.86%\n",
            "\n"
          ]
        }
      ],
      "source": [
        "#use the model to do prediction with\n",
        "# Train and Test accuracy\n",
        "scores = model.evaluate(X_train,y_train)\n",
        "print(\"Training Accuracy: %.2f%%\\n\" % (scores[1]*100))\n",
        "scores = model.evaluate(X_test,y_test)\n",
        "print(\"Testing Accuracy: %.2f%%\\n\" % (scores[1]*100))"
      ]
    },
    {
      "cell_type": "code",
      "source": [
        "#predict the target for test set\n",
        "print(model.predict(X_test))"
      ],
      "metadata": {
        "colab": {
          "base_uri": "https://localhost:8080/"
        },
        "id": "0_fFKh2PwCYO",
        "outputId": "63a10580-86a7-4aa2-e2f5-5edec50bdf8b"
      },
      "id": "0_fFKh2PwCYO",
      "execution_count": 19,
      "outputs": [
        {
          "output_type": "stream",
          "name": "stdout",
          "text": [
            "4/4 [==============================] - 0s 3ms/step\n",
            "[[2.41281101e-04]\n",
            " [9.99999523e-01]\n",
            " [1.00000000e+00]\n",
            " [9.99149203e-01]\n",
            " [1.00000000e+00]\n",
            " [9.99999881e-01]\n",
            " [1.00000000e+00]\n",
            " [1.00000000e+00]\n",
            " [9.99986172e-01]\n",
            " [1.00000000e+00]\n",
            " [9.99957442e-01]\n",
            " [9.99716461e-01]\n",
            " [1.00000000e+00]\n",
            " [8.37769508e-01]\n",
            " [9.99932170e-01]\n",
            " [9.96158178e-09]\n",
            " [9.99999881e-01]\n",
            " [1.06332594e-22]\n",
            " [1.67063577e-03]\n",
            " [1.55169251e-30]\n",
            " [1.31722229e-13]\n",
            " [9.80607152e-01]\n",
            " [1.00000000e+00]\n",
            " [9.99999166e-01]\n",
            " [1.36010977e-03]\n",
            " [9.99956369e-01]\n",
            " [9.99999404e-01]\n",
            " [1.00000000e+00]\n",
            " [9.99999881e-01]\n",
            " [2.96785544e-33]\n",
            " [1.00000000e+00]\n",
            " [1.57644392e-26]\n",
            " [9.99985576e-01]\n",
            " [8.00566902e-09]\n",
            " [1.00000000e+00]\n",
            " [1.00266108e-10]\n",
            " [9.99920011e-01]\n",
            " [2.88297625e-14]\n",
            " [9.99998569e-01]\n",
            " [2.16085461e-08]\n",
            " [7.72040486e-02]\n",
            " [9.99999404e-01]\n",
            " [1.08081215e-08]\n",
            " [1.00000000e+00]\n",
            " [9.99915957e-01]\n",
            " [9.95737740e-29]\n",
            " [1.00000000e+00]\n",
            " [9.99997616e-01]\n",
            " [1.00000000e+00]\n",
            " [2.64463201e-03]\n",
            " [2.84269595e-06]\n",
            " [1.00000000e+00]\n",
            " [2.91491649e-19]\n",
            " [1.00000000e+00]\n",
            " [9.99999881e-01]\n",
            " [1.00000000e+00]\n",
            " [1.00000000e+00]\n",
            " [9.99987483e-01]\n",
            " [9.99999881e-01]\n",
            " [0.00000000e+00]\n",
            " [5.51222324e-01]\n",
            " [5.65093003e-13]\n",
            " [1.00000000e+00]\n",
            " [9.99999881e-01]\n",
            " [1.26462416e-16]\n",
            " [9.99882698e-01]\n",
            " [0.00000000e+00]\n",
            " [8.75489019e-16]\n",
            " [2.25264092e-15]\n",
            " [9.99999881e-01]\n",
            " [9.38013315e-01]\n",
            " [3.23051219e-17]\n",
            " [1.00000000e+00]\n",
            " [9.99985456e-01]\n",
            " [5.05564419e-17]\n",
            " [9.99998927e-01]\n",
            " [1.00000000e+00]\n",
            " [1.00000000e+00]\n",
            " [9.99995589e-01]\n",
            " [9.99986291e-01]\n",
            " [4.24706814e-04]\n",
            " [8.05652311e-13]\n",
            " [1.08694352e-16]\n",
            " [9.99999881e-01]\n",
            " [1.02145253e-02]\n",
            " [1.00000000e+00]\n",
            " [9.99997616e-01]\n",
            " [9.99999881e-01]\n",
            " [5.95605047e-17]\n",
            " [9.81666738e-20]\n",
            " [1.00000000e+00]\n",
            " [1.99518986e-02]\n",
            " [9.98316646e-01]\n",
            " [9.99710500e-01]\n",
            " [9.99991655e-01]\n",
            " [1.00000000e+00]\n",
            " [0.00000000e+00]\n",
            " [1.00000000e+00]\n",
            " [9.99999523e-01]\n",
            " [9.99999523e-01]\n",
            " [9.99999881e-01]\n",
            " [1.00000000e+00]\n",
            " [9.99999404e-01]\n",
            " [9.99998093e-01]\n",
            " [1.13130184e-19]\n",
            " [1.00000000e+00]\n",
            " [6.39258476e-04]\n",
            " [9.99043286e-01]\n",
            " [4.40053612e-01]\n",
            " [9.80803490e-01]\n",
            " [9.99997854e-01]\n",
            " [3.12447560e-06]\n",
            " [6.92069964e-15]\n",
            " [9.99721706e-01]]\n"
          ]
        }
      ]
    },
    {
      "cell_type": "code",
      "source": [
        "\n",
        "prediction = tf.cast(tf.greater(model.predict(X_test), 0.5), tf.int32)\n",
        "\n",
        "print(\"Prediction:\", prediction[2], \"Target:\", y_test[2])"
      ],
      "metadata": {
        "colab": {
          "base_uri": "https://localhost:8080/"
        },
        "id": "K8bfEpl8wBHl",
        "outputId": "8f71fe0f-9e84-433b-ff99-a226eb40b835"
      },
      "id": "K8bfEpl8wBHl",
      "execution_count": 20,
      "outputs": [
        {
          "output_type": "stream",
          "name": "stdout",
          "text": [
            "4/4 [==============================] - 0s 2ms/step\n",
            "Prediction: tf.Tensor([1], shape=(1,), dtype=int32) Target: 1\n"
          ]
        }
      ]
    },
    {
      "cell_type": "code",
      "source": [
        "#find what all values related to the model are automatically saved\n",
        "print(history.history.keys())"
      ],
      "metadata": {
        "id": "6cGcWov-27Ax",
        "colab": {
          "base_uri": "https://localhost:8080/"
        },
        "outputId": "9617b49a-16d5-4618-cc97-7b2edf624643"
      },
      "id": "6cGcWov-27Ax",
      "execution_count": 21,
      "outputs": [
        {
          "output_type": "stream",
          "name": "stdout",
          "text": [
            "dict_keys(['loss', 'Accuracy'])\n"
          ]
        }
      ]
    },
    {
      "cell_type": "code",
      "source": [
        "import matplotlib.pyplot as plt\n",
        "\n",
        "plt.plot(history.history['loss'])\n",
        "plt.title('model loss')\n",
        "plt.ylabel('loss')\n",
        "plt.xlabel('epoch')\n",
        "plt.legend(['train'], loc='upper left')\n",
        "plt.show()"
      ],
      "metadata": {
        "id": "KjdJ-9CZ3Orr",
        "colab": {
          "base_uri": "https://localhost:8080/",
          "height": 472
        },
        "outputId": "c145b28f-a581-4a68-e419-f4598bdcff5b"
      },
      "id": "KjdJ-9CZ3Orr",
      "execution_count": 22,
      "outputs": [
        {
          "output_type": "display_data",
          "data": {
            "text/plain": [
              "<Figure size 640x480 with 1 Axes>"
            ],
            "image/png": "[encoded data removed]"
          },
          "metadata": {}
        }
      ]
    },
    {
      "cell_type": "code",
      "execution_count": 23,
      "id": "735261f2",
      "metadata": {
        "id": "735261f2",
        "colab": {
          "base_uri": "https://localhost:8080/"
        },
        "outputId": "b076f71d-48b4-4cb4-d2aa-715176ee8b9d"
      },
      "outputs": [
        {
          "output_type": "stream",
          "name": "stdout",
          "text": [
            "Epoch 1/100\n",
            "13/13 [==============================] - 0s 9ms/step - loss: 0.7602 - Accuracy: 0.8875 - val_loss: 1.4467 - val_Accuracy: 0.8913\n",
            "Epoch 2/100\n",
            "13/13 [==============================] - 0s 5ms/step - loss: 0.7315 - Accuracy: 0.9071 - val_loss: 0.4153 - val_Accuracy: 0.8913\n",
            "Epoch 3/100\n",
            "13/13 [==============================] - 0s 5ms/step - loss: 0.3680 - Accuracy: 0.9315 - val_loss: 0.3872 - val_Accuracy: 0.8696\n",
            "Epoch 4/100\n",
            "13/13 [==============================] - 0s 6ms/step - loss: 0.3340 - Accuracy: 0.9291 - val_loss: 0.3508 - val_Accuracy: 0.8913\n",
            "Epoch 5/100\n",
            "13/13 [==============================] - 0s 6ms/step - loss: 0.3752 - Accuracy: 0.9267 - val_loss: 0.4939 - val_Accuracy: 0.9130\n",
            "Epoch 6/100\n",
            "13/13 [==============================] - 0s 5ms/step - loss: 0.5163 - Accuracy: 0.8973 - val_loss: 0.3631 - val_Accuracy: 0.8913\n",
            "Epoch 7/100\n",
            "13/13 [==============================] - 0s 7ms/step - loss: 0.3945 - Accuracy: 0.9169 - val_loss: 0.4717 - val_Accuracy: 0.9130\n",
            "Epoch 8/100\n",
            "13/13 [==============================] - 0s 5ms/step - loss: 0.3734 - Accuracy: 0.9242 - val_loss: 0.3445 - val_Accuracy: 0.9130\n",
            "Epoch 9/100\n",
            "13/13 [==============================] - 0s 6ms/step - loss: 0.3538 - Accuracy: 0.9144 - val_loss: 0.4116 - val_Accuracy: 0.8913\n",
            "Epoch 10/100\n",
            "13/13 [==============================] - 0s 5ms/step - loss: 0.2480 - Accuracy: 0.9291 - val_loss: 0.6082 - val_Accuracy: 0.8478\n",
            "Epoch 11/100\n",
            "13/13 [==============================] - 0s 5ms/step - loss: 0.3660 - Accuracy: 0.9071 - val_loss: 0.4094 - val_Accuracy: 0.8913\n",
            "Epoch 12/100\n",
            "13/13 [==============================] - 0s 5ms/step - loss: 0.2129 - Accuracy: 0.9364 - val_loss: 0.2472 - val_Accuracy: 0.8913\n",
            "Epoch 13/100\n",
            "13/13 [==============================] - 0s 7ms/step - loss: 0.3116 - Accuracy: 0.9267 - val_loss: 0.2949 - val_Accuracy: 0.8913\n",
            "Epoch 14/100\n",
            "13/13 [==============================] - 0s 7ms/step - loss: 0.5329 - Accuracy: 0.8778 - val_loss: 0.5098 - val_Accuracy: 0.8696\n",
            "Epoch 15/100\n",
            "13/13 [==============================] - 0s 6ms/step - loss: 0.4224 - Accuracy: 0.9267 - val_loss: 0.8892 - val_Accuracy: 0.8913\n",
            "Epoch 16/100\n",
            "13/13 [==============================] - 0s 7ms/step - loss: 0.3076 - Accuracy: 0.9218 - val_loss: 0.2779 - val_Accuracy: 0.9348\n",
            "Epoch 17/100\n",
            "13/13 [==============================] - 0s 5ms/step - loss: 0.2508 - Accuracy: 0.9267 - val_loss: 0.9152 - val_Accuracy: 0.8913\n",
            "Epoch 18/100\n",
            "13/13 [==============================] - 0s 5ms/step - loss: 0.3481 - Accuracy: 0.9267 - val_loss: 0.3199 - val_Accuracy: 0.8913\n",
            "Epoch 19/100\n",
            "13/13 [==============================] - 0s 6ms/step - loss: 0.2697 - Accuracy: 0.9291 - val_loss: 0.3831 - val_Accuracy: 0.8696\n",
            "Epoch 20/100\n",
            "13/13 [==============================] - 0s 5ms/step - loss: 0.2445 - Accuracy: 0.9340 - val_loss: 0.2488 - val_Accuracy: 0.9130\n",
            "Epoch 21/100\n",
            "13/13 [==============================] - 0s 5ms/step - loss: 0.1673 - Accuracy: 0.9389 - val_loss: 0.3703 - val_Accuracy: 0.8913\n",
            "Epoch 22/100\n",
            "13/13 [==============================] - 0s 8ms/step - loss: 0.2433 - Accuracy: 0.9267 - val_loss: 0.2374 - val_Accuracy: 0.9130\n",
            "Epoch 23/100\n",
            "13/13 [==============================] - 0s 7ms/step - loss: 0.4115 - Accuracy: 0.9120 - val_loss: 0.6627 - val_Accuracy: 0.8043\n",
            "Epoch 24/100\n",
            "13/13 [==============================] - 0s 7ms/step - loss: 0.3075 - Accuracy: 0.9218 - val_loss: 0.2378 - val_Accuracy: 0.9348\n",
            "Epoch 25/100\n",
            "13/13 [==============================] - 0s 5ms/step - loss: 0.2616 - Accuracy: 0.9315 - val_loss: 0.4737 - val_Accuracy: 0.8913\n",
            "Epoch 26/100\n",
            "13/13 [==============================] - 0s 5ms/step - loss: 0.2892 - Accuracy: 0.9340 - val_loss: 0.6942 - val_Accuracy: 0.8043\n",
            "Epoch 27/100\n",
            "13/13 [==============================] - 0s 5ms/step - loss: 0.8444 - Accuracy: 0.8386 - val_loss: 1.1903 - val_Accuracy: 0.7391\n",
            "Epoch 28/100\n",
            "13/13 [==============================] - 0s 6ms/step - loss: 0.4166 - Accuracy: 0.8949 - val_loss: 0.3536 - val_Accuracy: 0.9130\n",
            "Epoch 29/100\n",
            "13/13 [==============================] - 0s 7ms/step - loss: 0.3952 - Accuracy: 0.9218 - val_loss: 0.4439 - val_Accuracy: 0.9130\n",
            "Epoch 30/100\n",
            "13/13 [==============================] - 0s 6ms/step - loss: 0.4903 - Accuracy: 0.9095 - val_loss: 0.7082 - val_Accuracy: 0.8913\n",
            "Epoch 31/100\n",
            "13/13 [==============================] - 0s 6ms/step - loss: 0.4131 - Accuracy: 0.9144 - val_loss: 0.6252 - val_Accuracy: 0.8261\n",
            "Epoch 32/100\n",
            "13/13 [==============================] - 0s 5ms/step - loss: 0.3481 - Accuracy: 0.9095 - val_loss: 0.7060 - val_Accuracy: 0.8913\n",
            "Epoch 33/100\n",
            "13/13 [==============================] - 0s 7ms/step - loss: 0.7682 - Accuracy: 0.8704 - val_loss: 0.5121 - val_Accuracy: 0.8696\n",
            "Epoch 34/100\n",
            "13/13 [==============================] - 0s 8ms/step - loss: 0.6843 - Accuracy: 0.8900 - val_loss: 0.8583 - val_Accuracy: 0.8261\n",
            "Epoch 35/100\n",
            "13/13 [==============================] - 0s 5ms/step - loss: 0.4905 - Accuracy: 0.9046 - val_loss: 1.1268 - val_Accuracy: 0.8913\n",
            "Epoch 36/100\n",
            "13/13 [==============================] - 0s 6ms/step - loss: 0.3562 - Accuracy: 0.9364 - val_loss: 0.7586 - val_Accuracy: 0.8913\n",
            "Epoch 37/100\n",
            "13/13 [==============================] - 0s 5ms/step - loss: 0.3482 - Accuracy: 0.9218 - val_loss: 0.8840 - val_Accuracy: 0.8913\n",
            "Epoch 38/100\n",
            "13/13 [==============================] - 0s 5ms/step - loss: 0.2972 - Accuracy: 0.9340 - val_loss: 0.3558 - val_Accuracy: 0.8696\n",
            "Epoch 39/100\n",
            "13/13 [==============================] - 0s 5ms/step - loss: 0.4677 - Accuracy: 0.9218 - val_loss: 0.3107 - val_Accuracy: 0.9130\n",
            "Epoch 40/100\n",
            "13/13 [==============================] - 0s 5ms/step - loss: 0.2876 - Accuracy: 0.9364 - val_loss: 0.2631 - val_Accuracy: 0.9130\n",
            "Epoch 41/100\n",
            "13/13 [==============================] - 0s 5ms/step - loss: 0.3740 - Accuracy: 0.9120 - val_loss: 0.5536 - val_Accuracy: 0.8913\n",
            "Epoch 42/100\n",
            "13/13 [==============================] - 0s 6ms/step - loss: 0.2692 - Accuracy: 0.9315 - val_loss: 0.8958 - val_Accuracy: 0.8913\n",
            "Epoch 43/100\n",
            "13/13 [==============================] - 0s 7ms/step - loss: 0.3515 - Accuracy: 0.9120 - val_loss: 0.2718 - val_Accuracy: 0.9130\n",
            "Epoch 44/100\n",
            "13/13 [==============================] - 0s 5ms/step - loss: 0.2253 - Accuracy: 0.9389 - val_loss: 0.2606 - val_Accuracy: 0.9130\n",
            "Epoch 45/100\n",
            "13/13 [==============================] - 0s 7ms/step - loss: 0.2155 - Accuracy: 0.9462 - val_loss: 0.2881 - val_Accuracy: 0.8696\n",
            "Epoch 46/100\n",
            "13/13 [==============================] - 0s 10ms/step - loss: 0.3850 - Accuracy: 0.9095 - val_loss: 0.3456 - val_Accuracy: 0.8913\n",
            "Epoch 47/100\n",
            "13/13 [==============================] - 0s 9ms/step - loss: 0.2291 - Accuracy: 0.9267 - val_loss: 0.9612 - val_Accuracy: 0.8696\n",
            "Epoch 48/100\n",
            "13/13 [==============================] - 0s 9ms/step - loss: 0.5137 - Accuracy: 0.8851 - val_loss: 0.2486 - val_Accuracy: 0.9130\n",
            "Epoch 49/100\n",
            "13/13 [==============================] - 0s 9ms/step - loss: 0.3606 - Accuracy: 0.9193 - val_loss: 1.0234 - val_Accuracy: 0.7609\n",
            "Epoch 50/100\n",
            "13/13 [==============================] - 0s 9ms/step - loss: 0.3555 - Accuracy: 0.9095 - val_loss: 0.3334 - val_Accuracy: 0.9130\n",
            "Epoch 51/100\n",
            "13/13 [==============================] - 0s 9ms/step - loss: 0.1984 - Accuracy: 0.9340 - val_loss: 0.1961 - val_Accuracy: 0.9130\n",
            "Epoch 52/100\n",
            "13/13 [==============================] - 0s 9ms/step - loss: 0.1906 - Accuracy: 0.9340 - val_loss: 0.1793 - val_Accuracy: 0.9348\n",
            "Epoch 53/100\n",
            "13/13 [==============================] - 0s 9ms/step - loss: 0.3852 - Accuracy: 0.9144 - val_loss: 0.4731 - val_Accuracy: 0.8478\n",
            "Epoch 54/100\n",
            "13/13 [==============================] - 0s 9ms/step - loss: 0.3910 - Accuracy: 0.9218 - val_loss: 1.0244 - val_Accuracy: 0.8696\n",
            "Epoch 55/100\n",
            "13/13 [==============================] - 0s 9ms/step - loss: 0.3866 - Accuracy: 0.9095 - val_loss: 1.1079 - val_Accuracy: 0.7174\n",
            "Epoch 56/100\n",
            "13/13 [==============================] - 0s 8ms/step - loss: 0.3061 - Accuracy: 0.9193 - val_loss: 0.8774 - val_Accuracy: 0.8913\n",
            "Epoch 57/100\n",
            "13/13 [==============================] - 0s 9ms/step - loss: 0.4481 - Accuracy: 0.9144 - val_loss: 0.6939 - val_Accuracy: 0.8261\n",
            "Epoch 58/100\n",
            "13/13 [==============================] - 0s 10ms/step - loss: 0.5057 - Accuracy: 0.8949 - val_loss: 0.6386 - val_Accuracy: 0.8913\n",
            "Epoch 59/100\n",
            "13/13 [==============================] - 0s 8ms/step - loss: 0.7232 - Accuracy: 0.8606 - val_loss: 1.7007 - val_Accuracy: 0.8261\n",
            "Epoch 60/100\n",
            "13/13 [==============================] - 0s 9ms/step - loss: 0.4422 - Accuracy: 0.9340 - val_loss: 0.8946 - val_Accuracy: 0.8913\n",
            "Epoch 61/100\n",
            "13/13 [==============================] - 0s 10ms/step - loss: 0.6999 - Accuracy: 0.8900 - val_loss: 1.5944 - val_Accuracy: 0.6957\n",
            "Epoch 62/100\n",
            "13/13 [==============================] - 0s 9ms/step - loss: 0.7212 - Accuracy: 0.8753 - val_loss: 1.9597 - val_Accuracy: 0.8261\n",
            "Epoch 63/100\n",
            "13/13 [==============================] - 0s 10ms/step - loss: 0.6428 - Accuracy: 0.9022 - val_loss: 0.3250 - val_Accuracy: 0.8913\n",
            "Epoch 64/100\n",
            "13/13 [==============================] - 0s 9ms/step - loss: 0.3664 - Accuracy: 0.9218 - val_loss: 0.3763 - val_Accuracy: 0.8913\n",
            "Epoch 65/100\n",
            "13/13 [==============================] - 0s 9ms/step - loss: 0.2351 - Accuracy: 0.9487 - val_loss: 0.3173 - val_Accuracy: 0.9130\n",
            "Epoch 66/100\n",
            "13/13 [==============================] - 0s 9ms/step - loss: 0.2000 - Accuracy: 0.9511 - val_loss: 0.2138 - val_Accuracy: 0.9348\n",
            "Epoch 67/100\n",
            "13/13 [==============================] - 0s 9ms/step - loss: 0.2441 - Accuracy: 0.9389 - val_loss: 0.2508 - val_Accuracy: 0.9348\n",
            "Epoch 68/100\n",
            "13/13 [==============================] - 0s 9ms/step - loss: 0.1954 - Accuracy: 0.9438 - val_loss: 0.4066 - val_Accuracy: 0.8913\n",
            "Epoch 69/100\n",
            "13/13 [==============================] - 0s 10ms/step - loss: 0.2844 - Accuracy: 0.9218 - val_loss: 0.3200 - val_Accuracy: 0.8696\n",
            "Epoch 70/100\n",
            "13/13 [==============================] - 0s 10ms/step - loss: 0.2478 - Accuracy: 0.9389 - val_loss: 0.6286 - val_Accuracy: 0.8913\n",
            "Epoch 71/100\n",
            "13/13 [==============================] - 0s 10ms/step - loss: 0.1979 - Accuracy: 0.9462 - val_loss: 0.2167 - val_Accuracy: 0.9130\n",
            "Epoch 72/100\n",
            "13/13 [==============================] - 0s 10ms/step - loss: 0.1724 - Accuracy: 0.9389 - val_loss: 0.2095 - val_Accuracy: 0.9130\n",
            "Epoch 73/100\n",
            "13/13 [==============================] - 0s 9ms/step - loss: 0.1563 - Accuracy: 0.9462 - val_loss: 0.1564 - val_Accuracy: 0.9130\n",
            "Epoch 74/100\n",
            "13/13 [==============================] - 0s 9ms/step - loss: 0.2048 - Accuracy: 0.9315 - val_loss: 0.3061 - val_Accuracy: 0.8696\n",
            "Epoch 75/100\n",
            "13/13 [==============================] - 0s 9ms/step - loss: 0.1923 - Accuracy: 0.9364 - val_loss: 0.1632 - val_Accuracy: 0.9348\n",
            "Epoch 76/100\n",
            "13/13 [==============================] - 0s 9ms/step - loss: 0.2157 - Accuracy: 0.9413 - val_loss: 0.2877 - val_Accuracy: 0.9130\n",
            "Epoch 77/100\n",
            "13/13 [==============================] - 0s 7ms/step - loss: 0.1656 - Accuracy: 0.9364 - val_loss: 0.1532 - val_Accuracy: 0.9130\n",
            "Epoch 78/100\n",
            "13/13 [==============================] - 0s 5ms/step - loss: 0.1677 - Accuracy: 0.9413 - val_loss: 0.1700 - val_Accuracy: 0.9130\n",
            "Epoch 79/100\n",
            "13/13 [==============================] - 0s 5ms/step - loss: 0.1887 - Accuracy: 0.9389 - val_loss: 0.3061 - val_Accuracy: 0.9130\n",
            "Epoch 80/100\n",
            "13/13 [==============================] - 0s 5ms/step - loss: 0.1659 - Accuracy: 0.9462 - val_loss: 0.2977 - val_Accuracy: 0.9130\n",
            "Epoch 81/100\n",
            "13/13 [==============================] - 0s 7ms/step - loss: 0.1906 - Accuracy: 0.9364 - val_loss: 0.1471 - val_Accuracy: 0.9348\n",
            "Epoch 82/100\n",
            "13/13 [==============================] - 0s 6ms/step - loss: 0.1920 - Accuracy: 0.9218 - val_loss: 0.1364 - val_Accuracy: 0.9348\n",
            "Epoch 83/100\n",
            "13/13 [==============================] - 0s 5ms/step - loss: 0.1457 - Accuracy: 0.9438 - val_loss: 0.1457 - val_Accuracy: 0.9130\n",
            "Epoch 84/100\n",
            "13/13 [==============================] - 0s 6ms/step - loss: 0.1303 - Accuracy: 0.9487 - val_loss: 0.4835 - val_Accuracy: 0.9130\n",
            "Epoch 85/100\n",
            "13/13 [==============================] - 0s 6ms/step - loss: 0.1403 - Accuracy: 0.9340 - val_loss: 0.2583 - val_Accuracy: 0.8696\n",
            "Epoch 86/100\n",
            "13/13 [==============================] - 0s 7ms/step - loss: 0.2403 - Accuracy: 0.9267 - val_loss: 0.2759 - val_Accuracy: 0.9130\n",
            "Epoch 87/100\n",
            "13/13 [==============================] - 0s 5ms/step - loss: 0.1360 - Accuracy: 0.9535 - val_loss: 0.4409 - val_Accuracy: 0.9130\n",
            "Epoch 88/100\n",
            "13/13 [==============================] - 0s 5ms/step - loss: 0.1563 - Accuracy: 0.9511 - val_loss: 0.1297 - val_Accuracy: 0.9348\n",
            "Epoch 89/100\n",
            "13/13 [==============================] - 0s 5ms/step - loss: 0.2211 - Accuracy: 0.9315 - val_loss: 0.3707 - val_Accuracy: 0.8696\n",
            "Epoch 90/100\n",
            "13/13 [==============================] - 0s 5ms/step - loss: 0.1647 - Accuracy: 0.9389 - val_loss: 0.1471 - val_Accuracy: 0.9565\n",
            "Epoch 91/100\n",
            "13/13 [==============================] - 0s 7ms/step - loss: 0.1395 - Accuracy: 0.9535 - val_loss: 0.4740 - val_Accuracy: 0.9130\n",
            "Epoch 92/100\n",
            "13/13 [==============================] - 0s 5ms/step - loss: 0.2343 - Accuracy: 0.9267 - val_loss: 0.1583 - val_Accuracy: 0.9130\n",
            "Epoch 93/100\n",
            "13/13 [==============================] - 0s 6ms/step - loss: 0.1090 - Accuracy: 0.9438 - val_loss: 0.1795 - val_Accuracy: 0.8913\n",
            "Epoch 94/100\n",
            "13/13 [==============================] - 0s 6ms/step - loss: 0.1859 - Accuracy: 0.9389 - val_loss: 0.1274 - val_Accuracy: 0.9348\n",
            "Epoch 95/100\n",
            "13/13 [==============================] - 0s 7ms/step - loss: 0.3207 - Accuracy: 0.8949 - val_loss: 0.2326 - val_Accuracy: 0.9130\n",
            "Epoch 96/100\n",
            "13/13 [==============================] - 0s 7ms/step - loss: 0.2512 - Accuracy: 0.9340 - val_loss: 0.5073 - val_Accuracy: 0.8913\n",
            "Epoch 97/100\n",
            "13/13 [==============================] - 0s 6ms/step - loss: 0.1870 - Accuracy: 0.9364 - val_loss: 0.2475 - val_Accuracy: 0.9130\n",
            "Epoch 98/100\n",
            "13/13 [==============================] - 0s 5ms/step - loss: 0.1401 - Accuracy: 0.9535 - val_loss: 0.3073 - val_Accuracy: 0.8696\n",
            "Epoch 99/100\n",
            "13/13 [==============================] - 0s 6ms/step - loss: 0.2105 - Accuracy: 0.9364 - val_loss: 0.2224 - val_Accuracy: 0.8696\n",
            "Epoch 100/100\n",
            "13/13 [==============================] - 0s 5ms/step - loss: 0.1644 - Accuracy: 0.9584 - val_loss: 0.1599 - val_Accuracy: 0.9348\n"
          ]
        }
      ],
      "source": [
        "#spilt training set into training and validation set and fit a model\n",
        "history = model.fit(X_train, y_train,validation_split = 0.1,\n",
        "                    epochs=100, batch_size=32)"
      ]
    },
    {
      "cell_type": "code",
      "source": [
        "print(history.history.keys())"
      ],
      "metadata": {
        "id": "vixyHKEb2OLF",
        "colab": {
          "base_uri": "https://localhost:8080/"
        },
        "outputId": "b9c21b5c-c403-4929-f118-a46c3eabe9d0"
      },
      "id": "vixyHKEb2OLF",
      "execution_count": 24,
      "outputs": [
        {
          "output_type": "stream",
          "name": "stdout",
          "text": [
            "dict_keys(['loss', 'Accuracy', 'val_loss', 'val_Accuracy'])\n"
          ]
        }
      ]
    },
    {
      "cell_type": "code",
      "source": [
        "plt.plot(history.history['loss'])\n",
        "plt.plot(history.history['val_loss'])\n",
        "plt.title('model loss')\n",
        "plt.ylabel('loss')\n",
        "plt.xlabel('epoch')\n",
        "plt.legend(['train', 'val'], loc='upper left')\n",
        "plt.show()"
      ],
      "metadata": {
        "id": "Bt937tT-2dlK",
        "colab": {
          "base_uri": "https://localhost:8080/",
          "height": 472
        },
        "outputId": "297150cd-bcc2-4045-a42e-7abf8e28e315"
      },
      "id": "Bt937tT-2dlK",
      "execution_count": 25,
      "outputs": [
        {
          "output_type": "display_data",
          "data": {
            "text/plain": [
              "<Figure size 640x480 with 1 Axes>"
            ],
            "image/png": "[encoded data removed]"
          },
          "metadata": {}
        }
      ]
    },
    {
      "cell_type": "code",
      "source": [
        "plt.plot(history.history['Accuracy'])\n",
        "plt.plot(history.history['val_Accuracy'])\n",
        "plt.title('model accuracy')\n",
        "plt.ylabel('accuracy')\n",
        "plt.xlabel('epoch')\n",
        "plt.legend(['train', 'val'], loc='upper left')\n",
        "plt.show()"
      ],
      "metadata": {
        "id": "LOqBn8qf11ia",
        "colab": {
          "base_uri": "https://localhost:8080/",
          "height": 472
        },
        "outputId": "31a73641-f732-4ded-d3ff-aad58d17f20c"
      },
      "id": "LOqBn8qf11ia",
      "execution_count": 26,
      "outputs": [
        {
          "output_type": "display_data",
          "data": {
            "text/plain": [
              "<Figure size 640x480 with 1 Axes>"
            ],
            "image/png": "[encoded data removed]"
          },
          "metadata": {}
        }
      ]
    },
    {
      "cell_type": "code",
      "execution_count": null,
      "id": "47a913a7",
      "metadata": {
        "id": "47a913a7",
        "colab": {
          "base_uri": "https://localhost:8080/"
        },
        "outputId": "2aa66943-0746-4de2-ada4-1c96f15c2224"
      },
      "outputs": [
        {
          "output_type": "stream",
          "name": "stdout",
          "text": [
            "Epoch 1/50\n",
            " 1/13 [=>............................] - ETA: 0s - loss: 0.3151 - Accuracy: 0.9688\n",
            "Epoch 1: val_loss improved from inf to 0.39770, saving model to /content/drive/MyDrive/checkpoints/cp.ckpt\n",
            "13/13 [==============================] - 0s 35ms/step - loss: 0.3052 - Accuracy: 0.9169 - val_loss: 0.3977 - val_Accuracy: 0.8696\n",
            "Epoch 2/50\n",
            " 1/13 [=>............................] - ETA: 0s - loss: 0.0486 - Accuracy: 0.9688\n",
            "Epoch 2: val_loss did not improve from 0.39770\n",
            "13/13 [==============================] - 0s 4ms/step - loss: 0.2190 - Accuracy: 0.9389 - val_loss: 0.7473 - val_Accuracy: 0.8913\n",
            "Epoch 3/50\n",
            " 1/13 [=>............................] - ETA: 0s - loss: 0.1652 - Accuracy: 0.9688\n",
            "Epoch 3: val_loss improved from 0.39770 to 0.39038, saving model to /content/drive/MyDrive/checkpoints/cp.ckpt\n",
            "13/13 [==============================] - 0s 9ms/step - loss: 0.2902 - Accuracy: 0.9095 - val_loss: 0.3904 - val_Accuracy: 0.8696\n",
            "Epoch 4/50\n",
            " 1/13 [=>............................] - ETA: 0s - loss: 0.8948 - Accuracy: 0.8438\n",
            "Epoch 4: val_loss did not improve from 0.39038\n",
            "13/13 [==============================] - 0s 4ms/step - loss: 0.4941 - Accuracy: 0.8924 - val_loss: 0.4306 - val_Accuracy: 0.8478\n",
            "Epoch 5/50\n",
            " 1/13 [=>............................] - ETA: 0s - loss: 0.1642 - Accuracy: 0.9688\n",
            "Epoch 5: val_loss did not improve from 0.39038\n",
            "13/13 [==============================] - 0s 5ms/step - loss: 0.5449 - Accuracy: 0.8900 - val_loss: 1.7660 - val_Accuracy: 0.8261\n",
            "Epoch 6/50\n",
            " 1/13 [=>............................] - ETA: 0s - loss: 1.7307 - Accuracy: 0.8438\n",
            "Epoch 6: val_loss did not improve from 0.39038\n",
            "13/13 [==============================] - 0s 4ms/step - loss: 0.4197 - Accuracy: 0.9144 - val_loss: 0.4252 - val_Accuracy: 0.9130\n",
            "Epoch 7/50\n",
            " 1/13 [=>............................] - ETA: 0s - loss: 0.3216 - Accuracy: 0.9375\n",
            "Epoch 7: val_loss did not improve from 0.39038\n",
            "13/13 [==============================] - 0s 5ms/step - loss: 0.3155 - Accuracy: 0.9071 - val_loss: 0.7835 - val_Accuracy: 0.8913\n",
            "Epoch 8/50\n",
            " 1/13 [=>............................] - ETA: 0s - loss: 0.3592 - Accuracy: 0.9688\n",
            "Epoch 8: val_loss did not improve from 0.39038\n",
            "13/13 [==============================] - 0s 5ms/step - loss: 0.4485 - Accuracy: 0.9120 - val_loss: 1.6613 - val_Accuracy: 0.6957\n",
            "Epoch 9/50\n",
            " 1/13 [=>............................] - ETA: 0s - loss: 1.7156 - Accuracy: 0.5625\n",
            "Epoch 9: val_loss did not improve from 0.39038\n",
            "13/13 [==============================] - 0s 7ms/step - loss: 0.9265 - Accuracy: 0.8606 - val_loss: 0.9539 - val_Accuracy: 0.8913\n",
            "Epoch 10/50\n",
            " 1/13 [=>............................] - ETA: 0s - loss: 0.0995 - Accuracy: 0.9375\n",
            "Epoch 10: val_loss improved from 0.39038 to 0.33927, saving model to /content/drive/MyDrive/checkpoints/cp.ckpt\n",
            "13/13 [==============================] - 0s 11ms/step - loss: 0.4363 - Accuracy: 0.9144 - val_loss: 0.3393 - val_Accuracy: 0.9130\n",
            "Epoch 11/50\n",
            " 1/13 [=>............................] - ETA: 0s - loss: 0.0365 - Accuracy: 0.9688\n",
            "Epoch 11: val_loss did not improve from 0.33927\n",
            "13/13 [==============================] - 0s 5ms/step - loss: 0.6211 - Accuracy: 0.8949 - val_loss: 0.7157 - val_Accuracy: 0.8913\n",
            "Epoch 12/50\n",
            " 1/13 [=>............................] - ETA: 0s - loss: 0.3307 - Accuracy: 0.8438\n",
            "Epoch 12: val_loss did not improve from 0.33927\n",
            "13/13 [==============================] - 0s 5ms/step - loss: 0.5035 - Accuracy: 0.8900 - val_loss: 0.3812 - val_Accuracy: 0.9130\n",
            "Epoch 13/50\n",
            " 1/13 [=>............................] - ETA: 0s - loss: 0.1004 - Accuracy: 0.9688\n",
            "Epoch 13: val_loss did not improve from 0.33927\n",
            "13/13 [==============================] - 0s 5ms/step - loss: 0.3815 - Accuracy: 0.9193 - val_loss: 1.0157 - val_Accuracy: 0.8913\n",
            "Epoch 14/50\n",
            " 1/13 [=>............................] - ETA: 0s - loss: 0.5434 - Accuracy: 0.9375\n",
            "Epoch 14: val_loss did not improve from 0.33927\n",
            "13/13 [==============================] - 0s 5ms/step - loss: 0.2242 - Accuracy: 0.9511 - val_loss: 0.5884 - val_Accuracy: 0.8913\n",
            "Epoch 15/50\n",
            " 1/13 [=>............................] - ETA: 0s - loss: 0.7134 - Accuracy: 0.9062\n",
            "Epoch 15: val_loss improved from 0.33927 to 0.31533, saving model to /content/drive/MyDrive/checkpoints/cp.ckpt\n",
            "13/13 [==============================] - 0s 9ms/step - loss: 0.2119 - Accuracy: 0.9462 - val_loss: 0.3153 - val_Accuracy: 0.9348\n",
            "Epoch 16/50\n",
            " 1/13 [=>............................] - ETA: 0s - loss: 0.2223 - Accuracy: 0.9062\n",
            "Epoch 16: val_loss improved from 0.31533 to 0.30477, saving model to /content/drive/MyDrive/checkpoints/cp.ckpt\n",
            "13/13 [==============================] - 0s 11ms/step - loss: 0.3267 - Accuracy: 0.9242 - val_loss: 0.3048 - val_Accuracy: 0.8696\n",
            "Epoch 17/50\n",
            " 1/13 [=>............................] - ETA: 0s - loss: 0.3888 - Accuracy: 0.8750\n",
            "Epoch 17: val_loss did not improve from 0.30477\n",
            "13/13 [==============================] - 0s 6ms/step - loss: 0.2866 - Accuracy: 0.9267 - val_loss: 0.5765 - val_Accuracy: 0.8913\n",
            "Epoch 18/50\n",
            " 1/13 [=>............................] - ETA: 0s - loss: 0.0170 - Accuracy: 1.0000\n",
            "Epoch 18: val_loss did not improve from 0.30477\n",
            "13/13 [==============================] - 0s 5ms/step - loss: 0.4025 - Accuracy: 0.9267 - val_loss: 0.4777 - val_Accuracy: 0.8261\n",
            "Epoch 19/50\n",
            " 1/13 [=>............................] - ETA: 0s - loss: 0.5169 - Accuracy: 0.8438\n",
            "Epoch 19: val_loss did not improve from 0.30477\n",
            "13/13 [==============================] - 0s 5ms/step - loss: 0.2969 - Accuracy: 0.9193 - val_loss: 1.2684 - val_Accuracy: 0.8478\n",
            "Epoch 20/50\n",
            " 1/13 [=>............................] - ETA: 0s - loss: 0.5687 - Accuracy: 0.9062\n",
            "Epoch 20: val_loss did not improve from 0.30477\n",
            "13/13 [==============================] - 0s 5ms/step - loss: 0.6706 - Accuracy: 0.8533 - val_loss: 0.4171 - val_Accuracy: 0.8913\n",
            "Epoch 21/50\n",
            " 1/13 [=>............................] - ETA: 0s - loss: 0.2705 - Accuracy: 0.8438\n",
            "Epoch 21: val_loss did not improve from 0.30477\n",
            "13/13 [==============================] - 0s 6ms/step - loss: 1.0364 - Accuracy: 0.8655 - val_loss: 0.9416 - val_Accuracy: 0.8913\n",
            "Epoch 22/50\n",
            " 1/13 [=>............................] - ETA: 0s - loss: 0.4877 - Accuracy: 0.9375\n",
            "Epoch 22: val_loss did not improve from 0.30477\n",
            "13/13 [==============================] - 0s 4ms/step - loss: 0.3638 - Accuracy: 0.9144 - val_loss: 0.4986 - val_Accuracy: 0.8478\n",
            "Epoch 23/50\n",
            " 1/13 [=>............................] - ETA: 0s - loss: 0.7738 - Accuracy: 0.8438\n",
            "Epoch 23: val_loss did not improve from 0.30477\n",
            "13/13 [==============================] - 0s 5ms/step - loss: 0.3536 - Accuracy: 0.9267 - val_loss: 0.3140 - val_Accuracy: 0.9130\n",
            "Epoch 24/50\n",
            " 1/13 [=>............................] - ETA: 0s - loss: 0.4539 - Accuracy: 0.8750\n",
            "Epoch 24: val_loss did not improve from 0.30477\n",
            "13/13 [==============================] - 0s 4ms/step - loss: 0.2559 - Accuracy: 0.9242 - val_loss: 0.4196 - val_Accuracy: 0.8913\n",
            "Epoch 25/50\n",
            " 1/13 [=>............................] - ETA: 0s - loss: 0.1640 - Accuracy: 0.9688\n",
            "Epoch 25: val_loss did not improve from 0.30477\n",
            "13/13 [==============================] - 0s 5ms/step - loss: 0.3475 - Accuracy: 0.9242 - val_loss: 0.4360 - val_Accuracy: 0.8478\n",
            "Epoch 26/50\n",
            " 1/13 [=>............................] - ETA: 0s - loss: 0.1680 - Accuracy: 0.9062\n",
            "Epoch 26: val_loss improved from 0.30477 to 0.30390, saving model to /content/drive/MyDrive/checkpoints/cp.ckpt\n",
            "13/13 [==============================] - 0s 10ms/step - loss: 0.3474 - Accuracy: 0.9144 - val_loss: 0.3039 - val_Accuracy: 0.9130\n",
            "Epoch 27/50\n",
            " 1/13 [=>............................] - ETA: 0s - loss: 0.2742 - Accuracy: 0.9375\n",
            "Epoch 27: val_loss did not improve from 0.30390\n",
            "13/13 [==============================] - 0s 5ms/step - loss: 0.2126 - Accuracy: 0.9340 - val_loss: 0.5319 - val_Accuracy: 0.8913\n",
            "Epoch 28/50\n",
            " 1/13 [=>............................] - ETA: 0s - loss: 0.2889 - Accuracy: 0.9375\n",
            "Epoch 28: val_loss improved from 0.30390 to 0.21689, saving model to /content/drive/MyDrive/checkpoints/cp.ckpt\n",
            "13/13 [==============================] - 0s 9ms/step - loss: 0.2871 - Accuracy: 0.9340 - val_loss: 0.2169 - val_Accuracy: 0.9130\n",
            "Epoch 29/50\n",
            " 1/13 [=>............................] - ETA: 0s - loss: 0.0915 - Accuracy: 0.9375\n",
            "Epoch 29: val_loss did not improve from 0.21689\n",
            "13/13 [==============================] - 0s 4ms/step - loss: 0.2734 - Accuracy: 0.9267 - val_loss: 0.5163 - val_Accuracy: 0.8913\n",
            "Epoch 30/50\n",
            " 1/13 [=>............................] - ETA: 0s - loss: 0.1701 - Accuracy: 0.9375\n",
            "Epoch 30: val_loss improved from 0.21689 to 0.19695, saving model to /content/drive/MyDrive/checkpoints/cp.ckpt\n",
            "13/13 [==============================] - 0s 11ms/step - loss: 0.2067 - Accuracy: 0.9267 - val_loss: 0.1970 - val_Accuracy: 0.9130\n",
            "Epoch 31/50\n",
            " 1/13 [=>............................] - ETA: 0s - loss: 0.0686 - Accuracy: 0.9688\n",
            "Epoch 31: val_loss did not improve from 0.19695\n",
            "13/13 [==============================] - 0s 5ms/step - loss: 0.2331 - Accuracy: 0.9438 - val_loss: 0.2204 - val_Accuracy: 0.9130\n",
            "Epoch 32/50\n",
            " 1/13 [=>............................] - ETA: 0s - loss: 0.2766 - Accuracy: 0.9375\n",
            "Epoch 32: val_loss did not improve from 0.19695\n",
            "13/13 [==============================] - 0s 5ms/step - loss: 0.1626 - Accuracy: 0.9511 - val_loss: 0.3249 - val_Accuracy: 0.8913\n",
            "Epoch 33/50\n",
            " 1/13 [=>............................] - ETA: 0s - loss: 0.2703 - Accuracy: 0.9062\n",
            "Epoch 33: val_loss did not improve from 0.19695\n",
            "13/13 [==============================] - 0s 5ms/step - loss: 0.1924 - Accuracy: 0.9315 - val_loss: 0.2642 - val_Accuracy: 0.8696\n",
            "Epoch 34/50\n",
            " 1/13 [=>............................] - ETA: 0s - loss: 0.1177 - Accuracy: 0.9688\n",
            "Epoch 34: val_loss did not improve from 0.19695\n",
            "13/13 [==============================] - 0s 5ms/step - loss: 0.1791 - Accuracy: 0.9413 - val_loss: 0.2369 - val_Accuracy: 0.8913\n",
            "Epoch 35/50\n",
            " 1/13 [=>............................] - ETA: 0s - loss: 0.0830 - Accuracy: 0.9688\n",
            "Epoch 35: val_loss did not improve from 0.19695\n",
            "13/13 [==============================] - 0s 5ms/step - loss: 0.1587 - Accuracy: 0.9462 - val_loss: 0.8839 - val_Accuracy: 0.8478\n",
            "Epoch 36/50\n",
            " 1/13 [=>............................] - ETA: 0s - loss: 0.5106 - Accuracy: 0.9062\n",
            "Epoch 36: val_loss did not improve from 0.19695\n",
            "13/13 [==============================] - 0s 5ms/step - loss: 0.4303 - Accuracy: 0.8973 - val_loss: 0.2582 - val_Accuracy: 0.9130\n",
            "Epoch 37/50\n",
            " 1/13 [=>............................] - ETA: 0s - loss: 0.2967 - Accuracy: 0.9375\n",
            "Epoch 37: val_loss did not improve from 0.19695\n",
            "13/13 [==============================] - 0s 5ms/step - loss: 0.3875 - Accuracy: 0.9095 - val_loss: 0.4271 - val_Accuracy: 0.8696\n",
            "Epoch 38/50\n",
            " 1/13 [=>............................] - ETA: 0s - loss: 0.3519 - Accuracy: 0.9375\n",
            "Epoch 38: val_loss did not improve from 0.19695\n",
            "13/13 [==============================] - 0s 5ms/step - loss: 0.2838 - Accuracy: 0.9169 - val_loss: 0.2978 - val_Accuracy: 0.8696\n",
            "Epoch 39/50\n",
            " 1/13 [=>............................] - ETA: 0s - loss: 0.1344 - Accuracy: 0.9062\n",
            "Epoch 39: val_loss did not improve from 0.19695\n",
            "13/13 [==============================] - 0s 5ms/step - loss: 0.3773 - Accuracy: 0.9046 - val_loss: 0.6327 - val_Accuracy: 0.8913\n",
            "Epoch 40/50\n",
            " 1/13 [=>............................] - ETA: 0s - loss: 0.2954 - Accuracy: 0.9688\n",
            "Epoch 40: val_loss did not improve from 0.19695\n",
            "13/13 [==============================] - 0s 5ms/step - loss: 0.1985 - Accuracy: 0.9462 - val_loss: 0.2379 - val_Accuracy: 0.9130\n",
            "Epoch 41/50\n",
            " 1/13 [=>............................] - ETA: 0s - loss: 0.1554 - Accuracy: 0.9375\n",
            "Epoch 41: val_loss did not improve from 0.19695\n",
            "13/13 [==============================] - 0s 5ms/step - loss: 0.2117 - Accuracy: 0.9389 - val_loss: 0.3394 - val_Accuracy: 0.9130\n",
            "Epoch 42/50\n",
            " 1/13 [=>............................] - ETA: 0s - loss: 0.1754 - Accuracy: 0.9375\n",
            "Epoch 42: val_loss did not improve from 0.19695\n",
            "13/13 [==============================] - 0s 5ms/step - loss: 0.1739 - Accuracy: 0.9340 - val_loss: 0.3095 - val_Accuracy: 0.9130\n",
            "Epoch 43/50\n",
            " 1/13 [=>............................] - ETA: 0s - loss: 0.4478 - Accuracy: 0.8438\n",
            "Epoch 43: val_loss did not improve from 0.19695\n",
            "13/13 [==============================] - 0s 5ms/step - loss: 0.2823 - Accuracy: 0.9144 - val_loss: 0.5056 - val_Accuracy: 0.8913\n",
            "Epoch 44/50\n",
            " 1/13 [=>............................] - ETA: 0s - loss: 0.3168 - Accuracy: 0.9062\n",
            "Epoch 44: val_loss improved from 0.19695 to 0.14883, saving model to /content/drive/MyDrive/checkpoints/cp.ckpt\n",
            "13/13 [==============================] - 0s 9ms/step - loss: 0.2370 - Accuracy: 0.9193 - val_loss: 0.1488 - val_Accuracy: 0.9348\n",
            "Epoch 45/50\n",
            " 1/13 [=>............................] - ETA: 0s - loss: 0.0344 - Accuracy: 1.0000\n",
            "Epoch 45: val_loss did not improve from 0.14883\n",
            "13/13 [==============================] - 0s 4ms/step - loss: 0.1525 - Accuracy: 0.9438 - val_loss: 0.4248 - val_Accuracy: 0.8913\n",
            "Epoch 46/50\n",
            " 1/13 [=>............................] - ETA: 0s - loss: 0.1901 - Accuracy: 0.9375\n",
            "Epoch 46: val_loss did not improve from 0.14883\n",
            "13/13 [==============================] - 0s 4ms/step - loss: 0.2883 - Accuracy: 0.9022 - val_loss: 0.5848 - val_Accuracy: 0.8913\n",
            "Epoch 47/50\n",
            " 1/13 [=>............................] - ETA: 0s - loss: 0.6447 - Accuracy: 0.8125\n",
            "Epoch 47: val_loss did not improve from 0.14883\n",
            "13/13 [==============================] - 0s 5ms/step - loss: 0.2691 - Accuracy: 0.9144 - val_loss: 0.2639 - val_Accuracy: 0.9130\n",
            "Epoch 48/50\n",
            " 1/13 [=>............................] - ETA: 0s - loss: 0.0770 - Accuracy: 0.9688\n",
            "Epoch 48: val_loss did not improve from 0.14883\n",
            "13/13 [==============================] - 0s 5ms/step - loss: 0.3883 - Accuracy: 0.9169 - val_loss: 0.7816 - val_Accuracy: 0.8696\n",
            "Epoch 49/50\n",
            " 1/13 [=>............................] - ETA: 0s - loss: 0.5167 - Accuracy: 0.9062\n",
            "Epoch 49: val_loss did not improve from 0.14883\n",
            "13/13 [==============================] - 0s 5ms/step - loss: 0.4735 - Accuracy: 0.8949 - val_loss: 0.3665 - val_Accuracy: 0.8478\n",
            "Epoch 50/50\n",
            " 1/13 [=>............................] - ETA: 0s - loss: 0.1826 - Accuracy: 0.9375\n",
            "Epoch 50: val_loss did not improve from 0.14883\n",
            "13/13 [==============================] - 0s 5ms/step - loss: 0.1995 - Accuracy: 0.9389 - val_loss: 0.2081 - val_Accuracy: 0.9130\n"
          ]
        },
        {
          "output_type": "execute_result",
          "data": {
            "text/plain": [
              "<keras.callbacks.History at 0x7fa1a066fc10>"
            ]
          },
          "metadata": {},
          "execution_count": 25
        }
      ],
      "source": [
        "#If we want to save the model parameters at a particular time we use ModelCheckpoint\n",
        "\n",
        "checkpoint_path = \"/content/drive/MyDrive/checkpoints/cp.ckpt\"\n",
        "checkpoint_dir = os.path.dirname(checkpoint_path)\n",
        "\n",
        "# Create a callback that saves the model's weights\n",
        "cp_callback = tf.keras.callbacks.ModelCheckpoint(filepath=checkpoint_path,\n",
        "                                                 save_weights_only=True,\n",
        "                                                 monitor='val_loss',\n",
        "                                                 verbose=1,\n",
        "                                                 save_best_only=True)\n",
        "\n",
        "\n",
        "\n",
        "# Model weights are saved at the end of every epoch, if it's the best seen so far.\n",
        "\n",
        "# Loads the weights\n",
        "#model.load_weights(checkpoint_path)\n",
        "\n",
        "# Train the model with the new callback\n",
        "model.fit(X_train,\n",
        "          y_train,\n",
        "          epochs=50,\n",
        "          validation_split = 0.1,\n",
        "#        validation_data=(X_test, y_test),\n",
        "          callbacks=[cp_callback])  # Pass callback to training\n",
        "\n",
        "# This may generate warnings related to saving the state of the optimizer.\n",
        "# These warnings (and similar warnings throughout this notebook)\n",
        "# are in place to discourage outdated usage, and can be ignored.\n"
      ]
    },
    {
      "cell_type": "code",
      "source": [
        "#use the model to do prediction with\n",
        "# Train and Test accuracy\n",
        "scores = model.evaluate(X_train,y_train)\n",
        "print(\"Training Accuracy: %.2f%%\\n\" % (scores[1]*100))\n",
        "scores = model.evaluate(X_test,y_test)\n",
        "print(\"Testing Accuracy: %.2f%%\\n\" % (scores[1]*100))"
      ],
      "metadata": {
        "colab": {
          "base_uri": "https://localhost:8080/"
        },
        "id": "uiKYQywH_BDD",
        "outputId": "afe23bdd-7f5c-459a-feeb-3d455e267d8c"
      },
      "id": "uiKYQywH_BDD",
      "execution_count": null,
      "outputs": [
        {
          "output_type": "stream",
          "name": "stdout",
          "text": [
            "15/15 [==============================] - 0s 2ms/step - loss: 0.4506 - Accuracy: 0.8593\n",
            "Training Accuracy: 85.93%\n",
            "\n",
            "4/4 [==============================] - 0s 3ms/step - loss: 0.5313 - Accuracy: 0.8421\n",
            "Testing Accuracy: 84.21%\n",
            "\n"
          ]
        }
      ]
    },
    {
      "cell_type": "code",
      "source": [
        "# Loads the weights\n",
        "model.load_weights(checkpoint_path)"
      ],
      "metadata": {
        "colab": {
          "base_uri": "https://localhost:8080/"
        },
        "id": "l-j9UBB5_PMi",
        "outputId": "acf2af5d-002f-45f0-d5b9-c5d98027f7f6"
      },
      "id": "l-j9UBB5_PMi",
      "execution_count": null,
      "outputs": [
        {
          "output_type": "execute_result",
          "data": {
            "text/plain": [
              "<tensorflow.python.training.tracking.util.CheckpointLoadStatus at 0x7fd9cd339690>"
            ]
          },
          "metadata": {},
          "execution_count": 28
        }
      ]
    },
    {
      "cell_type": "code",
      "source": [
        "#use the model to do prediction with\n",
        "# Train and Test accuracy\n",
        "scores = model.evaluate(X_train,y_train)\n",
        "print(\"Training Accuracy: %.2f%%\\n\" % (scores[1]*100))\n",
        "scores = model.evaluate(X_test,y_test)\n",
        "print(\"Testing Accuracy: %.2f%%\\n\" % (scores[1]*100))"
      ],
      "metadata": {
        "id": "6ON6ob91_TaQ",
        "outputId": "dcdf65f0-88b3-4893-9d73-82a745aef63a",
        "colab": {
          "base_uri": "https://localhost:8080/"
        }
      },
      "id": "6ON6ob91_TaQ",
      "execution_count": null,
      "outputs": [
        {
          "output_type": "stream",
          "name": "stdout",
          "text": [
            "15/15 [==============================] - 0s 2ms/step - loss: 0.1104 - Accuracy: 0.9648\n",
            "Training Accuracy: 96.48%\n",
            "\n",
            "4/4 [==============================] - 0s 3ms/step - loss: 0.1485 - Accuracy: 0.9474\n",
            "Testing Accuracy: 94.74%\n",
            "\n"
          ]
        }
      ]
    },
    {
      "cell_type": "code",
      "source": [
        "#Normalize the inputs into a distribution centered around 0 with standard deviation 1. It accomplishes this by precomputing the mean and variance of the data, and calling (input-mean)/sqrt(var) at runtime.\n",
        "\"\"\"\n",
        "layer = tf.keras.layers.experimental.preprocessing.Normalization()\n",
        "layer.adapt(X_train)\n",
        "\"\"\""
      ],
      "metadata": {
        "id": "yFWEAo3bbWlG",
        "colab": {
          "base_uri": "https://localhost:8080/",
          "height": 35
        },
        "outputId": "2be9d75c-3f75-492a-8e74-a4ceab6e9d71"
      },
      "id": "yFWEAo3bbWlG",
      "execution_count": null,
      "outputs": [
        {
          "output_type": "execute_result",
          "data": {
            "text/plain": [
              "'\\nlayer = tf.keras.layers.experimental.preprocessing.Normalization()\\nlayer.adapt(X_train)\\n'"
            ],
            "application/vnd.google.colaboratory.intrinsic+json": {
              "type": "string"
            }
          },
          "metadata": {},
          "execution_count": 30
        }
      ]
    },
    {
      "cell_type": "code",
      "source": [],
      "metadata": {
        "id": "ndIYEO_92bSp"
      },
      "id": "ndIYEO_92bSp",
      "execution_count": null,
      "outputs": []
    }
  ],
  "metadata": {
    "kernelspec": {
      "display_name": "Python 3",
      "language": "python",
      "name": "python3"
    },
    "language_info": {
      "codemirror_mode": {
        "name": "ipython",
        "version": 3
      },
      "file_extension": ".py",
      "mimetype": "text/x-python",
      "name": "python",
      "nbconvert_exporter": "python",
      "pygments_lexer": "ipython3",
      "version": "3.9.12"
    },
    "colab": {
      "provenance": []
    },
    "accelerator": "GPU",
    "gpuClass": "standard"
  },
  "nbformat": 4,
  "nbformat_minor": 5
}